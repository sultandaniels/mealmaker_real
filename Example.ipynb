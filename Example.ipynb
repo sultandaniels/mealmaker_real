{
 "cells": [
  {
   "cell_type": "code",
   "execution_count": 12,
   "metadata": {},
   "outputs": [
    {
     "data": {
      "text/html": "        <script type=\"text/javascript\">\n        window.PlotlyConfig = {MathJaxConfig: 'local'};\n        if (window.MathJax && window.MathJax.Hub && window.MathJax.Hub.Config) {window.MathJax.Hub.Config({SVG: {font: \"STIX-Web\"}});}\n        if (typeof require !== 'undefined') {\n        require.undef(\"plotly\");\n        requirejs.config({\n            paths: {\n                'plotly': ['https://cdn.plot.ly/plotly-2.14.0.min']\n            }\n        });\n        require(['plotly'], function(Plotly) {\n            window._Plotly = Plotly;\n        });\n        }\n        </script>\n        "
     },
     "metadata": {},
     "output_type": "display_data"
    },
    {
     "ename": "FileNotFoundError",
     "evalue": "[Errno 2] No such file or directory: '/Users/sultandaniels/Documents/ENGN1000/mealmaker/src/autochef/RecipeAnalysis/m_act.dill'",
     "output_type": "error",
     "traceback": [
      "\u001B[0;31m---------------------------------------------------------------------------\u001B[0m",
      "\u001B[0;31mFileNotFoundError\u001B[0m                         Traceback (most recent call last)",
      "Cell \u001B[0;32mIn [12], line 3\u001B[0m\n\u001B[1;32m      1\u001B[0m \u001B[38;5;28;01mimport\u001B[39;00m \u001B[38;5;21;01mautochef\u001B[39;00m\n\u001B[0;32m----> 3\u001B[0m \u001B[38;5;28;01mfrom\u001B[39;00m \u001B[38;5;21;01msrc\u001B[39;00m\u001B[38;5;21;01m.\u001B[39;00m\u001B[38;5;21;01mautochef\u001B[39;00m\u001B[38;5;21;01m.\u001B[39;00m\u001B[38;5;21;01mEvolutionaryAlgorithm\u001B[39;00m \u001B[38;5;28;01mimport\u001B[39;00m EvolutionaryAlgorithm \u001B[38;5;28;01mas\u001B[39;00m EA\n",
      "File \u001B[0;32m~/Documents/ENGN1000/mealmaker/src/autochef/EvolutionaryAlgorithm/EvolutionaryAlgorithm.py:74\u001B[0m\n\u001B[1;32m     71\u001B[0m module_root \u001B[38;5;241m=\u001B[39m \u001B[38;5;124m\"\u001B[39m\u001B[38;5;124m/\u001B[39m\u001B[38;5;124m\"\u001B[39m\u001B[38;5;241m.\u001B[39mjoin(\u001B[38;5;28mstr\u001B[39m(settings\u001B[38;5;241m.\u001B[39m\u001B[38;5;18m__file__\u001B[39m)\u001B[38;5;241m.\u001B[39msplit(\u001B[38;5;124m\"\u001B[39m\u001B[38;5;124m/\u001B[39m\u001B[38;5;124m\"\u001B[39m)[:\u001B[38;5;241m-\u001B[39m\u001B[38;5;241m1\u001B[39m]) \u001B[38;5;241m+\u001B[39m \u001B[38;5;124m\"\u001B[39m\u001B[38;5;124m/\u001B[39m\u001B[38;5;124m\"\u001B[39m\n\u001B[1;32m     72\u001B[0m sys\u001B[38;5;241m.\u001B[39mpath\u001B[38;5;241m.\u001B[39mappend(module_root \u001B[38;5;241m+\u001B[39m \u001B[38;5;124m\"\u001B[39m\u001B[38;5;124m/RecipeAnalysis/\u001B[39m\u001B[38;5;124m\"\u001B[39m)\n\u001B[0;32m---> 74\u001B[0m m_act \u001B[38;5;241m=\u001B[39m dill\u001B[38;5;241m.\u001B[39mload(\u001B[38;5;28;43mopen\u001B[39;49m\u001B[43m(\u001B[49m\u001B[43mmodule_root\u001B[49m\u001B[43m \u001B[49m\u001B[38;5;241;43m+\u001B[39;49m\u001B[43m \u001B[49m\u001B[38;5;124;43m\"\u001B[39;49m\u001B[38;5;124;43mRecipeAnalysis/m_act.dill\u001B[39;49m\u001B[38;5;124;43m\"\u001B[39;49m\u001B[43m,\u001B[49m\u001B[43m \u001B[49m\u001B[38;5;124;43m\"\u001B[39;49m\u001B[38;5;124;43mrb\u001B[39;49m\u001B[38;5;124;43m\"\u001B[39;49m\u001B[43m)\u001B[49m)\n\u001B[1;32m     75\u001B[0m m_mix \u001B[38;5;241m=\u001B[39m dill\u001B[38;5;241m.\u001B[39mload(\u001B[38;5;28mopen\u001B[39m(module_root \u001B[38;5;241m+\u001B[39m \u001B[38;5;124m\"\u001B[39m\u001B[38;5;124mRecipeAnalysis/m_mix.dill\u001B[39m\u001B[38;5;124m\"\u001B[39m, \u001B[38;5;124m\"\u001B[39m\u001B[38;5;124mrb\u001B[39m\u001B[38;5;124m\"\u001B[39m))\n\u001B[1;32m     76\u001B[0m m_base_act \u001B[38;5;241m=\u001B[39m dill\u001B[38;5;241m.\u001B[39mload(\u001B[38;5;28mopen\u001B[39m(module_root \u001B[38;5;241m+\u001B[39m \u001B[38;5;124m\"\u001B[39m\u001B[38;5;124mRecipeAnalysis/m_base_act.dill\u001B[39m\u001B[38;5;124m\"\u001B[39m, \u001B[38;5;124m\"\u001B[39m\u001B[38;5;124mrb\u001B[39m\u001B[38;5;124m\"\u001B[39m))\n",
      "\u001B[0;31mFileNotFoundError\u001B[0m: [Errno 2] No such file or directory: '/Users/sultandaniels/Documents/ENGN1000/mealmaker/src/autochef/RecipeAnalysis/m_act.dill'"
     ]
    }
   ],
   "source": [
    "import autochef\n",
    "\n",
    "from src.autochef.EvolutionaryAlgorithm import EvolutionaryAlgorithm as EA"
   ]
  },
  {
   "cell_type": "code",
   "execution_count": 2,
   "metadata": {},
   "outputs": [],
   "source": [
    "# define the set of input ingredients and it's subset of main ingredients\n",
    "\n",
    "all_ingredients = [\"bread\", \"butter\"]\n",
    "main_ingredients = [\"bread\"]\n",
    "\n",
    "# define range of additional ingredients\n",
    "min_add = 4\n",
    "max_add = 13\n",
    "\n",
    "# population size:\n",
    "n_pop = 50\n",
    "\n",
    "# mutations rate (given in number of node mutations for each tree)\n",
    "mutations = 2\n",
    "\n",
    "# if pairwise competition is false, just the best n_pop/2 individuals survive\n",
    "pairwise_competition = True"
   ]
  },
  {
   "cell_type": "code",
   "execution_count": 3,
   "metadata": {},
   "outputs": [
    {
     "ename": "NameError",
     "evalue": "name 'EA' is not defined",
     "output_type": "error",
     "traceback": [
      "\u001B[0;31m---------------------------------------------------------------------------\u001B[0m",
      "\u001B[0;31mNameError\u001B[0m                                 Traceback (most recent call last)",
      "Cell \u001B[0;32mIn [3], line 3\u001B[0m\n\u001B[1;32m      1\u001B[0m \u001B[38;5;66;03m# create Population\u001B[39;00m\n\u001B[0;32m----> 3\u001B[0m p \u001B[38;5;241m=\u001B[39m \u001B[43mEA\u001B[49m\u001B[38;5;241m.\u001B[39mPopulation(\n\u001B[1;32m      4\u001B[0m     all_ingredients,\n\u001B[1;32m      5\u001B[0m     main_ingredients,\n\u001B[1;32m      6\u001B[0m     min_additional\u001B[38;5;241m=\u001B[39mmin_add,\n\u001B[1;32m      7\u001B[0m     max_additional\u001B[38;5;241m=\u001B[39mmax_add,\n\u001B[1;32m      8\u001B[0m     n_population \u001B[38;5;241m=\u001B[39m n_pop,\n\u001B[1;32m      9\u001B[0m     mutations\u001B[38;5;241m=\u001B[39mmutations,\n\u001B[1;32m     10\u001B[0m     pairwise_competition\u001B[38;5;241m=\u001B[39mpairwise_competition\n\u001B[1;32m     11\u001B[0m )\n",
      "\u001B[0;31mNameError\u001B[0m: name 'EA' is not defined"
     ]
    }
   ],
   "source": [
    "# create Population\n",
    "\n",
    "p = EA.Population(\n",
    "    all_ingredients,\n",
    "    main_ingredients,\n",
    "    min_additional=min_add,\n",
    "    max_additional=max_add,\n",
    "    n_population = n_pop,\n",
    "    mutations=mutations,\n",
    "    pairwise_competition=pairwise_competition\n",
    ")"
   ]
  },
  {
   "cell_type": "code",
   "execution_count": 4,
   "metadata": {},
   "outputs": [
    {
     "ename": "NameError",
     "evalue": "name 'p' is not defined",
     "output_type": "error",
     "traceback": [
      "\u001B[0;31m---------------------------------------------------------------------------\u001B[0m",
      "\u001B[0;31mNameError\u001B[0m                                 Traceback (most recent call last)",
      "Cell \u001B[0;32mIn [4], line 3\u001B[0m\n\u001B[1;32m      1\u001B[0m \u001B[38;5;66;03m# run over 10 cycles\u001B[39;00m\n\u001B[0;32m----> 3\u001B[0m fitness_logs \u001B[38;5;241m=\u001B[39m \u001B[43mp\u001B[49m\u001B[38;5;241m.\u001B[39mrun(\u001B[38;5;241m10\u001B[39m)\n",
      "\u001B[0;31mNameError\u001B[0m: name 'p' is not defined"
     ]
    }
   ],
   "source": [
    "# run over 10 cycles\n",
    "\n",
    "fitness_logs = p.run(10)"
   ]
  },
  {
   "cell_type": "code",
   "execution_count": null,
   "metadata": {},
   "outputs": [],
   "source": [
    "p.plot_population(n_best=3)"
   ]
  }
 ],
 "metadata": {
  "kernelspec": {
   "display_name": "Python 3",
   "language": "python",
   "name": "python3"
  },
  "language_info": {
   "codemirror_mode": {
    "name": "ipython",
    "version": 3
   },
   "file_extension": ".py",
   "mimetype": "text/x-python",
   "name": "python",
   "nbconvert_exporter": "python",
   "pygments_lexer": "ipython3",
   "version": "3.7.5"
  }
 },
 "nbformat": 4,
 "nbformat_minor": 4
}
