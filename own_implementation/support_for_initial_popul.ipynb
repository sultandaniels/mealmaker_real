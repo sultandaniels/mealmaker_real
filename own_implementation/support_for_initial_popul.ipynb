{
 "cells": [
  {
   "attachments": {},
   "cell_type": "markdown",
   "metadata": {},
   "source": [
    "# 2) Initial Population\n",
    "Because the adjacency matrices were too large to put on the repo, all six .csv files are manually downloaded and stored at the following directory:    \n",
    "'/Users/waniel/Documents/GitHub/mealmaker/own_implementation/adj_mat')   \n",
    "Lists of action and ingredient names are stored at the following directory:     \n",
    "'/Users/waniel/Documents/GitHub/mealmaker/own_implementation/act_and_ing_lists'"
   ]
  },
  {
   "cell_type": "code",
   "execution_count": 16,
   "metadata": {},
   "outputs": [],
   "source": [
    "import numpy as np\n",
    "import csv\n",
    "\n",
    "# Because some rows of 'ingredients.csv' had no comma and some rows had one comma, numpy considered the csv to have rows of inconsisent lengths\n",
    "# To fix this, we load the csv of ingredient names as a list, where each row is treated as a string.\n",
    "ing_list = []\n",
    "with open('./act_and_ing_lists/ingredients.csv', newline='') as f:\n",
    "    for row in csv.reader(f):\n",
    "        ing_list.append(row[0])\n",
    "\n",
    "# The next two lines of code reject characters that come after a comma\n",
    "sep = ','\n",
    "ing_names = [ing.split(sep, 1)[0] for ing in ing_list]\n",
    "\n",
    "agrp_x_ing = np.loadtxt(\"./adj_mat/action_groups_to_ingredients_heat_cold_prepare_thresholded_matrix.csv\", delimiter=\",\", dtype=float)\n"
   ]
  }
 ],
 "metadata": {
  "kernelspec": {
   "display_name": "Python 3.9.13 ('base')",
   "language": "python",
   "name": "python3"
  },
  "language_info": {
   "codemirror_mode": {
    "name": "ipython",
    "version": 3
   },
   "file_extension": ".py",
   "mimetype": "text/x-python",
   "name": "python",
   "nbconvert_exporter": "python",
   "pygments_lexer": "ipython3",
   "version": "3.9.13 (main, Aug 25 2022, 18:29:29) \n[Clang 12.0.0 ]"
  },
  "orig_nbformat": 4,
  "vscode": {
   "interpreter": {
    "hash": "fd74503db038fce80d7bd28e44fe3ca343dce9a164c02555ca43e79a3f95bda3"
   }
  }
 },
 "nbformat": 4,
 "nbformat_minor": 2
}
