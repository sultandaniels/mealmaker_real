{
 "cells": [
  {
   "cell_type": "code",
   "execution_count": 46,
   "metadata": {
    "collapsed": true
   },
   "outputs": [],
   "source": [
    "import json\n",
    "import nltk\n",
    "from nltk.tokenize import word_tokenize\n",
    "from nltk import pos_tag\n",
    "import numpy as np\n",
    "import sys\n",
    "sys.path.append( '/Users/sultandaniels/Documents/ENGN1000/mealmaker/src/autochef/data' )\n",
    "\n",
    "import ingredients_list as all_ing\n",
    "all_ing = all_ing.ingredients\n",
    "np.savetxt(\"ingredients.csv\", all_ing, delimiter=\", \", fmt = '%s')\n",
    "import actions_list\n",
    "cooking_verbs = actions_list.cooking_verbs\n",
    "np.savetxt(\"cooking_actions.csv\", cooking_verbs, delimiter=\", \", fmt = '%s')\n",
    "heat = actions_list.heat\n",
    "np.savetxt(\"heating_actions.csv\", heat, delimiter=\", \", fmt = '%s')\n",
    "cool = actions_list.cool\n",
    "np.savetxt(\"cooling_actions.csv\", cool, delimiter=\", \", fmt = '%s')\n",
    "prepare = actions_list.prepare\n",
    "np.savetxt(\"preparing_actions.csv\", prepare, delimiter=\", \", fmt = '%s')\n",
    "\n",
    "\n"
   ]
  },
  {
   "cell_type": "code",
   "execution_count": 46,
   "outputs": [],
   "source": [],
   "metadata": {
    "collapsed": false
   }
  },
  {
   "cell_type": "markdown",
   "source": [
    "# data"
   ],
   "metadata": {
    "collapsed": false
   }
  },
  {
   "cell_type": "code",
   "execution_count": 47,
   "outputs": [],
   "source": [
    "f = open(\"/Users/sultandaniels/Documents/ENGN1000/mealmaker/src/autochef/data/1M_recipes/layer1.json\", \"r\")\n",
    "data = json.load(f)\n",
    "\n",
    "f.close()"
   ],
   "metadata": {
    "collapsed": false
   }
  },
  {
   "cell_type": "code",
   "execution_count": 48,
   "outputs": [],
   "source": [
    "#print the ingredients of each recipe\n",
    "# print(data[200][\"ingredients\"][0][\"text\"])\n",
    "import numpy as np\n",
    "\n"
   ],
   "metadata": {
    "collapsed": false
   }
  },
  {
   "cell_type": "markdown",
   "source": [
    "# ingredient list"
   ],
   "metadata": {
    "collapsed": false
   }
  },
  {
   "cell_type": "code",
   "execution_count": 49,
   "outputs": [
    {
     "data": {
      "text/plain": "['c.',\n 'elbow',\n 'macaroni',\n 'c.',\n 'c.',\n 'celery',\n 'c.',\n 'pepper',\n 'tbsp',\n 'mayonnaise',\n 'dressing',\n 'tbsp',\n 'vinegar',\n 'salt',\n 'dill']"
     },
     "execution_count": 49,
     "metadata": {},
     "output_type": "execute_result"
    }
   ],
   "source": [
    "#creates ingredient list for a recipe\n",
    "#inputs recipe outputs ingredient list\n",
    "def ing_list_fun(rec):\n",
    "    ings = []\n",
    "    ings_uncleaned = []\n",
    "    for ing in rec[\"ingredients\"]:\n",
    "        ing = word_tokenize(ing[\"text\"])\n",
    "        ing = [word.lower() for word in ing] #lowercase everything\n",
    "        its = ing.count(\"(\") + ing.count(\")\") + ing.count(\",\") + ing.count(\"ounce\")\\\n",
    "              + ing.count(\"cup\")+ ing.count(\"teaspoon\")+ ing.count(\"tablespoon\")\\\n",
    "              + ing.count(\"quart\")+ ing.count(\"gallon\")#count number of common unnecessary phrases\n",
    "        for i in range(its): #for the number of unnecessary characters, use the remove function for each\n",
    "            try:\n",
    "                ing.remove(\"(\")\n",
    "            except ValueError:\n",
    "                try:\n",
    "                    ing.remove(\")\")\n",
    "                except ValueError:\n",
    "                    try:\n",
    "                        ing.remove(\",\")\n",
    "                    except ValueError:\n",
    "                        try:\n",
    "                            ing.remove(\"ounce\")\n",
    "                        except ValueError:\n",
    "                            try:\n",
    "                                ing.remove(\"cup\")\n",
    "                            except ValueError:\n",
    "                                try:\n",
    "                                    ing.remove(\"teaspoon\")\n",
    "                                except ValueError:\n",
    "                                    try:\n",
    "                                        ing.remove(\"tablespoon\")\n",
    "                                    except ValueError:\n",
    "                                        try:\n",
    "                                            ing.remove(\"quart\")\n",
    "                                        except ValueError:\n",
    "                                            ing.remove(\"gallon\")\n",
    "        its = ing.count(\"spoon\") + ing.count(\"note\") + ing.count(\"see\") + ing.count(\"page\") + ing.count(\"recipe\")#count number of common unnecessary phrases\n",
    "        for i in range(its): #for the number of unnecessary characters, use the remove function for each\n",
    "            try:\n",
    "                ing.remove(\"recipe\")\n",
    "            except ValueError:\n",
    "                try:\n",
    "                    ing.remove(\"page\")\n",
    "                except ValueError:\n",
    "                    try:\n",
    "                        ing.remove(\"see\")\n",
    "                    except ValueError:\n",
    "                        try:\n",
    "                            ing.remove(\"note\")\n",
    "                        except ValueError:\n",
    "                            ing.remove(\"spoon\")\n",
    "\n",
    "        ing = pos_tag(ing)\n",
    "        for word in ing:\n",
    "            ings_uncleaned.append(word)\n",
    "            if word[1] == \"NNP\" or word[1] == \"NN\":\n",
    "                ings.append(word[0])\n",
    "    return ings\n",
    "\n",
    "ing_list_fun(data[1])\n"
   ],
   "metadata": {
    "collapsed": false
   }
  },
  {
   "cell_type": "markdown",
   "source": [
    "## ingredient list of all recipes"
   ],
   "metadata": {
    "collapsed": false
   }
  },
  {
   "cell_type": "code",
   "execution_count": 50,
   "outputs": [],
   "source": [
    "ings_recs = []\n",
    "for rec in data:\n",
    "    ings_recs.append(ing_list_fun(rec))\n"
   ],
   "metadata": {
    "collapsed": false
   }
  },
  {
   "cell_type": "markdown",
   "source": [
    "# Adjacency matrices"
   ],
   "metadata": {
    "collapsed": false
   }
  },
  {
   "cell_type": "markdown",
   "source": [
    "## per recipe"
   ],
   "metadata": {
    "collapsed": false
   }
  },
  {
   "cell_type": "markdown",
   "source": [
    "### actions to ingredients"
   ],
   "metadata": {
    "collapsed": false
   }
  },
  {
   "cell_type": "code",
   "execution_count": 51,
   "outputs": [],
   "source": [
    "## A-I (action to ingredient) matrix for a recipe\n",
    "#inputs a recipe, its recipe_list, and action array outputs an action to ingredient adjacency matrix\n",
    "def act_ing_rec(rec,rec_list,acts):\n",
    "    adj = np.zeros([len(acts),len(rec_list)])\n",
    "    for i in range(0, len(acts)):\n",
    "        for j in range(0, len(rec_list)):\n",
    "            for instr in rec[\"instructions\"]:\n",
    "                if acts[i] in instr[\"text\"] and rec_list[j] in instr[\"text\"]:\n",
    "                    adj[i,j] = 1\n",
    "    return adj\n",
    "\n",
    "# act_ing_rec(data[0],ing_list_fun(data[0]),cooking_verbs)"
   ],
   "metadata": {
    "collapsed": false
   }
  },
  {
   "cell_type": "markdown",
   "source": [
    "### ingredients to ingredients"
   ],
   "metadata": {
    "collapsed": false
   }
  },
  {
   "cell_type": "code",
   "execution_count": 52,
   "outputs": [],
   "source": [
    "## I-I matrix for a recipe\n",
    "#inputs a recipe and its ingredient list, outputs an ingredient to ingredient adjacency matrix\n",
    "def ing_ing_rec(rec,rec_list):\n",
    "    adj = np.zeros([len(rec_list),len(rec_list)])\n",
    "    for i in range(0, len(rec_list)):\n",
    "        for j in range(0, len(rec_list)):\n",
    "            for instr in rec[\"instructions\"]:\n",
    "                if rec_list[i] in instr[\"text\"] and rec_list[j] in instr[\"text\"]:\n",
    "                    adj[i,j] = 1\n",
    "    return adj"
   ],
   "metadata": {
    "collapsed": false
   }
  },
  {
   "cell_type": "markdown",
   "source": [
    "## entire database"
   ],
   "metadata": {
    "collapsed": false
   }
  },
  {
   "cell_type": "markdown",
   "source": [
    "### Actions to all ingredients"
   ],
   "metadata": {
    "collapsed": false
   }
  },
  {
   "cell_type": "code",
   "execution_count": 53,
   "outputs": [
    {
     "name": "stdout",
     "output_type": "stream",
     "text": [
      "406301.0\n"
     ]
    }
   ],
   "source": [
    "#inputs the recipe database, list of all ingredients, and the list of the ingredient list of each recipes, and action list\n",
    "#outputs an adjacency matrix that shows the frequency of ingredients having a certain action done to them\n",
    "def act_ing_all(data, all_ings, rec_ings, acts):\n",
    "    adj = np.zeros([len(acts), len(all_ings)])\n",
    "    ing_ind = 0\n",
    "    for k in range(0,len(rec_ings)): #iterate through all of the recipes, updating adj each time\n",
    "        ati_mat = act_ing_rec(data[k],rec_ings[k],acts) #action to ingredients adj matrix for recipe k\n",
    "        for i in range(0, len(all_ings)): #check each ingredient\n",
    "            if all_ings[i] in rec_ings[k]: #if ingredient in the recipe get its ingr index\n",
    "                ing_ind = rec_ings[k].index(all_ings[i])\n",
    "                # add ingr column to column of entire adj\n",
    "                adj[:,i] = adj[:,i] + ati_mat[:,ing_ind]\n",
    "\n",
    "    return adj\n",
    "\n",
    "# print(np.amax(act_ing_all(data,all_ing,ings_recs, cooking_verbs)))\n",
    "# print(act_ing_rec(data[0],ing_list_fun(data[0]),cooking_verbs)[0][2])\n"
   ],
   "metadata": {
    "collapsed": false
   }
  },
  {
   "cell_type": "markdown",
   "source": [
    "### ingredients to ingredients"
   ],
   "metadata": {
    "collapsed": false
   }
  },
  {
   "cell_type": "code",
   "execution_count": 55,
   "outputs": [],
   "source": [
    "#inputs the recipe database, list of all ingredients, and the list of the ingredient list of each recipes.\n",
    "#outputs an adjacency matrix that shows the frequency of ingredients being mixed together\n",
    "def ing_ing_all(data, all_ings, rec_ings):\n",
    "    adj = np.zeros([len(all_ings), len(all_ings)])\n",
    "    ing_ind = 0\n",
    "    for k in range(0,len(rec_ings)): #iterate through all of the recipes, updating adj each time\n",
    "        iti_mat = ing_ing_rec(data[k],rec_ings[k])\n",
    "        nonz_els = np.transpose(np.nonzero(iti_mat)) #indices of non-zero entries of iti_mat\n",
    "        nze_shape = nonz_els.shape\n",
    "        for i in range(0, nze_shape[0]):\n",
    "            ing1 = rec_ings[k][nonz_els[i,0]] #first ingredient that was mixed\n",
    "            ing2 = rec_ings[k][nonz_els[i,1]] #second ingredient that was mixed\n",
    "            try:\n",
    "                ing1_ind = all_ings.index(ing1)\n",
    "                ing2_ind = all_ings.index(ing2)\n",
    "                adj[ing1_ind,ing2_ind] = adj[ing1_ind,ing2_ind] + 1\n",
    "            except ValueError:\n",
    "                # print(\"dirty ingredient\")\n",
    "                continue\n",
    "    return adj\n",
    "\n",
    "# print(np.max(ing_ing_all(data,all_ing,ings_recs)))\n",
    "# print(np.min(ing_ing_all(data,all_ing,ings_recs)))\n",
    "# print(ing_ing_all(data,all_ing,ings_recs).shape)\n",
    "# print(np.nonzero(ing_ing_all(data,all_ing,ings_recs) - np.transpose(ing_ing_all(data,all_ing,ings_recs)))) #truly a symmetric matrix"
   ],
   "metadata": {
    "collapsed": false
   }
  },
  {
   "cell_type": "markdown",
   "source": [
    "### Action group to ingredients"
   ],
   "metadata": {
    "collapsed": false
   }
  },
  {
   "cell_type": "code",
   "execution_count": 56,
   "outputs": [],
   "source": [
    "#inputs the action to ingredient adjacency matrix, action list, and action group list of lists\n",
    "#outputs an adjacency matrix that shows the frequency of ingredients having a certain action group done to them\n",
    "def actgrp_ing_all(act_ing, acts, actgrps):\n",
    "    mat_sh = act_ing.shape\n",
    "    adj = np.zeros([3, mat_sh[1]])\n",
    "    i = 0\n",
    "    while i < 3:\n",
    "        for act in actgrps[i]: # for action in specific subgroup\n",
    "            act_ind = acts.index(act) # get overall index of action\n",
    "            adj[i,:] = adj[i,:] + act_ing[act_ind,:] # add entire row in the A*I matrix\n",
    "            # for that action to the subgroup's row\n",
    "        i = i + 1\n",
    "    return adj\n",
    "\n",
    "# print(np.amax(actgrp_ing_all(act_ing_all(data, all_ing, ings_recs, cooking_verbs), cooking_verbs, [heat, cool, prepare])))"
   ],
   "metadata": {
    "collapsed": false
   }
  },
  {
   "cell_type": "markdown",
   "source": [
    "# Write Adj Matrices into files"
   ],
   "metadata": {
    "collapsed": false
   }
  },
  {
   "cell_type": "code",
   "execution_count": 57,
   "outputs": [],
   "source": [
    "#act to ing\n",
    "act_ing = act_ing_all(data, all_ing, ings_recs, cooking_verbs)\n",
    "np.savetxt(\"actions_to_ingredients_matrix.csv\", act_ing, delimiter=\", \", fmt = '%f')\n",
    "act_ing_thresh = act_ing\n",
    "act_ing_thresh[act_ing_thresh < 2] = 0\n",
    "np.savetxt(\"actions_to_ingredients_thresholded_matrix.csv\", act_ing_thresh, delimiter=\", \", fmt = '%f')\n",
    "\n",
    "#ing to ing\n",
    "ing_ing = ing_ing_all(data, all_ing, ings_recs)\n",
    "np.savetxt(\"ingredients_to_ingredients_matrix.csv\", ing_ing, delimiter=\", \", fmt = '%f')\n",
    "ing_ing_thresh = ing_ing\n",
    "ing_ing_thresh[ing_ing_thresh < 2] = 0\n",
    "np.savetxt(\"ingredients_to_ingredients_thresholded_matrix.csv\", ing_ing_thresh, delimiter=\", \", fmt = '%f')\n",
    "\n",
    "#actgrp to ing\n",
    "actgrp_ing = actgrp_ing_all(act_ing, cooking_verbs, [heat, cool, prepare])\n",
    "np.savetxt(\"action_groups_to_ingredients_heat_cool_prepare_matrix.csv\", actgrp_ing, delimiter=\", \", fmt = '%f')\n",
    "actgrp_ing_thresh = actgrp_ing\n",
    "actgrp_ing_thresh[actgrp_ing_thresh < 2] = 0\n",
    "np.savetxt(\"action_groups_to_ingredients_heat_cool_prepare_thresholded_matrix.csv\", actgrp_ing_thresh, delimiter=\", \", fmt = '%f')\n",
    "\n"
   ],
   "metadata": {
    "collapsed": false
   }
  },
  {
   "cell_type": "code",
   "execution_count": 58,
   "outputs": [
    {
     "name": "stdout",
     "output_type": "stream",
     "text": [
      "(6714, 6714)\n"
     ]
    }
   ],
   "source": [
    "print(ing_ing.shape)"
   ],
   "metadata": {
    "collapsed": false
   }
  },
  {
   "cell_type": "code",
   "execution_count": 60,
   "outputs": [],
   "source": [
    "newing = np.loadtxt(\"ingredients_to_ingredients_matrix.csv\", delimiter=\",\", dtype=float)"
   ],
   "metadata": {
    "collapsed": false
   }
  },
  {
   "cell_type": "code",
   "execution_count": 61,
   "outputs": [
    {
     "name": "stdout",
     "output_type": "stream",
     "text": [
      "(6714, 6714)\n"
     ]
    }
   ],
   "source": [
    "print(newing.shape)"
   ],
   "metadata": {
    "collapsed": false
   }
  },
  {
   "cell_type": "code",
   "execution_count": null,
   "outputs": [],
   "source": [],
   "metadata": {
    "collapsed": false
   }
  }
 ],
 "metadata": {
  "kernelspec": {
   "display_name": "Python 3",
   "language": "python",
   "name": "python3"
  },
  "language_info": {
   "codemirror_mode": {
    "name": "ipython",
    "version": 2
   },
   "file_extension": ".py",
   "mimetype": "text/x-python",
   "name": "python",
   "nbconvert_exporter": "python",
   "pygments_lexer": "ipython2",
   "version": "2.7.6"
  }
 },
 "nbformat": 4,
 "nbformat_minor": 0
}
