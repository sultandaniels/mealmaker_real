{
 "cells": [
  {
   "cell_type": "code",
   "execution_count": 1,
   "metadata": {
    "collapsed": true
   },
   "outputs": [],
   "source": [
    "import sys\n",
    "sys.path.append( '/Users/sultandaniels/Documents/ENGN1000/mealmaker/src/autochef/data' )\n",
    "import node as nd\n",
    "import Mutation as mt\n",
    "\n",
    "import ingredients_list as all_ing\n",
    "all_ing = all_ing.ingredients\n",
    "import actions_list\n",
    "cooking_verbs = actions_list.cooking_verbs\n",
    "heat = actions_list.heat\n",
    "cool = actions_list.cool\n",
    "prepare = actions_list.prepare\n",
    "\n",
    "\n"
   ]
  },
  {
   "cell_type": "code",
   "execution_count": 2,
   "outputs": [],
   "source": [
    "node1 = nd.Node(\"action\", 3)\n",
    "node2 = nd.Node(\"action\", 2)\n",
    "node3 = nd.Node(\"action\", 2)\n",
    "node4 = nd.Node(\"ing\", 4)\n",
    "node5 = nd.Node(\"ing\", 5)\n",
    "node6 = nd.Node(\"ing\", 6)\n",
    "\n",
    "\n",
    "nd.Node.insert_child(node3,[node4])\n",
    "tree1 = nd.Tree(node3)\n",
    "nd.Node.insert_child(node2,[node5])\n",
    "tree2 = nd.Tree(node2)\n",
    "nd.Node.insert_child(node1,[node6])\n",
    "tree3 = nd.Tree(node1)\n",
    "tree4 = nd.Tree(node4)\n",
    "\n",
    "# node1.children.append(node.Node(3)) #figure out index\n",
    "# print(node1.children[0].index)"
   ],
   "metadata": {
    "collapsed": false
   }
  },
  {
   "cell_type": "code",
   "execution_count": 3,
   "outputs": [
    {
     "name": "stdout",
     "output_type": "stream",
     "text": [
      "[<node.Tree object at 0x108ef6c20>, <node.Tree object at 0x108ef78e0>, <node.Tree object at 0x108ef7790>]\n"
     ]
    }
   ],
   "source": [
    "trees = nd.Tree.check_same_act([tree2,tree1,tree3,tree4])\n",
    "print(trees)"
   ],
   "metadata": {
    "collapsed": false
   }
  },
  {
   "cell_type": "code",
   "execution_count": 9,
   "outputs": [
    {
     "name": "stdout",
     "output_type": "stream",
     "text": [
      "[<node.Node object at 0x108ef79a0>, <node.Node object at 0x108ef7250>, <node.Node object at 0x108ef6aa0>]\n"
     ]
    }
   ],
   "source": [
    "val_tree = nd.Tree.make_valid(trees)\n",
    "print(val_tree.root.children)"
   ],
   "metadata": {
    "collapsed": false
   }
  },
  {
   "cell_type": "code",
   "execution_count": 8,
   "outputs": [
    {
     "name": "stdout",
     "output_type": "stream",
     "text": [
      "3\n",
      "action\n",
      "adding action 84\n",
      "True\n"
     ]
    }
   ],
   "source": [
    "print(len(val_tree.root.children))\n",
    "print(val_tree.root.children[0].category)\n",
    "print(mt.act_mut(val_tree.root, None, cooking_verbs))\n"
   ],
   "metadata": {
    "collapsed": false
   }
  },
  {
   "cell_type": "code",
   "execution_count": 54,
   "outputs": [
    {
     "ename": "IndexError",
     "evalue": "list index out of range",
     "output_type": "error",
     "traceback": [
      "\u001B[0;31m---------------------------------------------------------------------------\u001B[0m",
      "\u001B[0;31mIndexError\u001B[0m                                Traceback (most recent call last)",
      "Cell \u001B[0;32mIn [54], line 1\u001B[0m\n\u001B[0;32m----> 1\u001B[0m \u001B[38;5;28mprint\u001B[39m(\u001B[43mval_tree\u001B[49m\u001B[38;5;241;43m.\u001B[39;49m\u001B[43mroot\u001B[49m\u001B[38;5;241;43m.\u001B[39;49m\u001B[43mchildren\u001B[49m\u001B[43m[\u001B[49m\u001B[38;5;241;43m2\u001B[39;49m\u001B[43m]\u001B[49m\u001B[38;5;241;43m.\u001B[39;49m\u001B[43mchildren\u001B[49m\u001B[43m[\u001B[49m\u001B[38;5;241;43m0\u001B[39;49m\u001B[43m]\u001B[49m\u001B[38;5;241;43m.\u001B[39;49m\u001B[43mchildren\u001B[49m\u001B[43m[\u001B[49m\u001B[38;5;241;43m0\u001B[39;49m\u001B[43m]\u001B[49m\u001B[38;5;241;43m.\u001B[39;49m\u001B[43mchildren\u001B[49m\u001B[43m[\u001B[49m\u001B[38;5;241;43m1\u001B[39;49m\u001B[43m]\u001B[49m\u001B[38;5;241m.\u001B[39mcategory)\n",
      "\u001B[0;31mIndexError\u001B[0m: list index out of range"
     ]
    }
   ],
   "source": [
    "print(val_tree.root.children[2].children[0].children[0].children[1].category)"
   ],
   "metadata": {
    "collapsed": false
   }
  },
  {
   "cell_type": "code",
   "execution_count": 10,
   "outputs": [],
   "source": [
    "vcop = val_tree.copy()"
   ],
   "metadata": {
    "collapsed": false
   }
  },
  {
   "cell_type": "code",
   "execution_count": 11,
   "outputs": [
    {
     "name": "stdout",
     "output_type": "stream",
     "text": [
      "3\n",
      "3\n"
     ]
    }
   ],
   "source": [
    "print(len(vcop.root.children))\n",
    "print(len(val_tree.root.children))"
   ],
   "metadata": {
    "collapsed": false
   }
  },
  {
   "cell_type": "code",
   "execution_count": 27,
   "outputs": [
    {
     "name": "stdout",
     "output_type": "stream",
     "text": [
      "action\n",
      "ing\n"
     ]
    }
   ],
   "source": [],
   "metadata": {
    "collapsed": false
   }
  },
  {
   "cell_type": "code",
   "execution_count": null,
   "outputs": [],
   "source": [],
   "metadata": {
    "collapsed": false
   }
  }
 ],
 "metadata": {
  "kernelspec": {
   "display_name": "Python 3",
   "language": "python",
   "name": "python3"
  },
  "language_info": {
   "codemirror_mode": {
    "name": "ipython",
    "version": 2
   },
   "file_extension": ".py",
   "mimetype": "text/x-python",
   "name": "python",
   "nbconvert_exporter": "python",
   "pygments_lexer": "ipython2",
   "version": "2.7.6"
  }
 },
 "nbformat": 4,
 "nbformat_minor": 0
}
