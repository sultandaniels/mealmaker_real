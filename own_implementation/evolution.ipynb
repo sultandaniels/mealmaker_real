{
 "cells": [
  {
   "cell_type": "code",
   "execution_count": 1,
   "metadata": {
    "collapsed": true
   },
   "outputs": [],
   "source": [
    "import sys\n",
    "sys.path.append( '/Users/sultandaniels/Documents/ENGN1000/mealmaker_real/src/autochef/data' )\n",
    "import node as nd\n",
    "import Mutation as mt\n",
    "import initial_popul as pop\n",
    "import numpy as np\n"
   ]
  },
  {
   "cell_type": "code",
   "execution_count": 2,
   "outputs": [],
   "source": [
    "import ingredients_list as all_ing\n",
    "all_ing = all_ing.ingredients\n",
    "import actions_list\n",
    "cooking_verbs = actions_list.cooking_verbs\n",
    "heat = actions_list.heat\n",
    "cool = actions_list.cool\n",
    "prepare = actions_list.prepare"
   ],
   "metadata": {
    "collapsed": false
   }
  },
  {
   "cell_type": "code",
   "execution_count": 3,
   "outputs": [],
   "source": [
    "ing_ing_mat = np.loadtxt('/Users/sultandaniels/Documents/ENGN1000/adj_matrices/ingredients_to_ingredients_thresholded_matrix.csv', delimiter=\",\", dtype=float)\n",
    "\n",
    "act_ing_mat = np.loadtxt('/Users/sultandaniels/Documents/ENGN1000/adj_matrices/actions_to_ingredients_thresholded_matrix.csv', delimiter=\",\", dtype=float)\n",
    "\n",
    "actgrp_ing_mat = np.loadtxt('/Users/sultandaniels/Documents/ENGN1000/adj_matrices/action_groups_to_ingredients_heat_cool_prepare_thresholded_matrix.csv', delimiter=\",\", dtype=float)\n",
    "\n",
    "prep_inds = np.loadtxt('/Users/sultandaniels/Documents/ENGN1000/actions_and_ingredients_lists/prepare_actions_indices.csv', delimiter=\",\", dtype=float)\n",
    "prep_inds = prep_inds.astype(int)\n",
    "prep_inds = prep_inds.tolist()\n",
    "\n",
    "heat_inds = np.loadtxt('/Users/sultandaniels/Documents/ENGN1000/actions_and_ingredients_lists/heat_actions_indices.csv', delimiter=\",\", dtype=float)\n",
    "\n",
    "heat_inds = heat_inds.astype(int)\n",
    "heat_inds = heat_inds.tolist()"
   ],
   "metadata": {
    "collapsed": false
   }
  },
  {
   "cell_type": "markdown",
   "source": [
    "# Test Tree Creation"
   ],
   "metadata": {
    "collapsed": false
   }
  },
  {
   "cell_type": "code",
   "execution_count": 4,
   "outputs": [
    {
     "name": "stdout",
     "output_type": "stream",
     "text": [
      "user inputted ings:\n",
      " ['wensleydale', 'coconut aminos', 'accompaniment', 'liquid', 'field peas']\n",
      "ingredient indices:\n",
      " [10, 11, 12, 13, 14]\n",
      "\n",
      "initial trees:\n",
      "tree 0 root: wensleydale\n",
      "tree 1 root: coconut aminos\n",
      "tree 2 root: accompaniment\n",
      "tree 3 root: liquid\n",
      "tree 4 root: field peas\n",
      "need_prep: [0, 0, 1, 1, 0]\n",
      "\n",
      "prepare actions added\n",
      "tree 0 root: wensleydale\n",
      "tree 1 root: coconut aminos\n",
      "tree 2 root: garnish\n",
      "tree 3 root: serve\n",
      "tree 4 root: field peas\n",
      "need_heat: [1, 1, 0, 0, 1]\n",
      "\n",
      "heat actions added\n",
      "tree 0 root: scorch\n",
      "tree 1 root: simmer\n",
      "tree 2 root: garnish\n",
      "tree 3 root: serve\n",
      "tree 4 root: fry\n",
      "\n",
      "merge trees with the same action root\n",
      "tree 0 root: scorch\n",
      "tree 1 root: simmer\n",
      "tree 2 root: garnish\n",
      "tree 3 root: serve\n",
      "tree 4 root: fry\n",
      "\n",
      "final valid tree\n",
      "root: mix\n",
      "root's children:\n",
      "child 0 : scorch\n",
      "child 1 : simmer\n",
      "child 2 : garnish\n",
      "child 3 : serve\n",
      "child 4 : fry\n"
     ]
    },
    {
     "data": {
      "text/plain": "<node.Tree at 0x11736a380>"
     },
     "execution_count": 4,
     "metadata": {},
     "output_type": "execute_result"
    }
   ],
   "source": [
    "ings = all_ing[10:15] # user inputted ingredients\n",
    "\n",
    "ing_inds = pop.ing_indices(ings, all_ing) # ingredient indices\n",
    "\n",
    "pop.initialize_tree(1,ings,all_ing,ing_inds,act_ing_mat,prep_inds,heat_inds,actgrp_ing_mat,0.35,cooking_verbs,0.65)"
   ],
   "metadata": {
    "collapsed": false
   }
  },
  {
   "cell_type": "markdown",
   "source": [
    "# Mutating the Tree"
   ],
   "metadata": {
    "collapsed": false
   }
  },
  {
   "cell_type": "code",
   "execution_count": 5,
   "outputs": [],
   "source": [
    "# initialize population\n",
    "current_pop = pop.init_pop(75, ings, all_ing, ing_inds, act_ing_mat, prep_inds, heat_inds, actgrp_ing_mat, 0.35, cooking_verbs, 0.65)\n",
    "\n",
    "\n",
    "# gens = 35\n",
    "# k = np.random.randint(3)\n",
    "# if k == 0: # mutate mix node\n",
    "# elif k == 1: # mutate action node\n",
    "# elif k == 2: # mutate ingredient node"
   ],
   "metadata": {
    "collapsed": false
   }
  },
  {
   "cell_type": "code",
   "execution_count": 12,
   "outputs": [
    {
     "name": "stdout",
     "output_type": "stream",
     "text": [
      "[<node.Node object at 0x117672260>, <node.Node object at 0x1176722c0>, <node.Node object at 0x1176721a0>, <node.Node object at 0x117672200>, <node.Node object at 0x117672320>]\n"
     ]
    }
   ],
   "source": [],
   "metadata": {
    "collapsed": false
   }
  },
  {
   "cell_type": "code",
   "execution_count": 7,
   "outputs": [],
   "source": [
    "node1 = nd.Node(\"action\", 3)\n",
    "node2 = nd.Node(\"action\", 2)\n",
    "node3 = nd.Node(\"action\", 2)\n",
    "node4 = nd.Node(\"ing\", 4)\n",
    "node5 = nd.Node(\"ing\", 5)\n",
    "node6 = nd.Node(\"ing\", 6)\n",
    "\n",
    "\n",
    "nd.Node.insert_child(node3,[node4])\n",
    "tree1 = nd.Tree(node3)\n",
    "nd.Node.insert_child(node2,[node5])\n",
    "tree2 = nd.Tree(node2)\n",
    "nd.Node.insert_child(node1,[node6])\n",
    "tree3 = nd.Tree(node1)\n",
    "tree4 = nd.Tree(node4)\n",
    "\n",
    "# node1.children.append(node.Node(3)) #figure out index\n",
    "# print(node1.children[0].index)"
   ],
   "metadata": {
    "collapsed": false
   }
  },
  {
   "cell_type": "code",
   "execution_count": 3,
   "outputs": [
    {
     "name": "stdout",
     "output_type": "stream",
     "text": [
      "[<node.Tree object at 0x1046c6c50>, <node.Tree object at 0x1046c7940>, <node.Tree object at 0x1046c77f0>]\n"
     ]
    }
   ],
   "source": [
    "trees = nd.Tree.check_same_act([tree2,tree1,tree3,tree4])\n",
    "print(trees)"
   ],
   "metadata": {
    "collapsed": false
   }
  },
  {
   "cell_type": "code",
   "execution_count": 4,
   "outputs": [
    {
     "name": "stdout",
     "output_type": "stream",
     "text": [
      "[<node.Node object at 0x1046c7a30>, <node.Node object at 0x1046c7250>, <node.Node object at 0x1046c6b00>]\n"
     ]
    }
   ],
   "source": [
    "val_tree = nd.Tree.make_valid(trees)\n",
    "print(val_tree.root.children)"
   ],
   "metadata": {
    "collapsed": false
   }
  },
  {
   "cell_type": "code",
   "execution_count": 5,
   "outputs": [
    {
     "name": "stdout",
     "output_type": "stream",
     "text": [
      "3\n",
      "action\n",
      "adding action 106\n",
      "True\n"
     ]
    }
   ],
   "source": [
    "print(len(val_tree.root.children))\n",
    "print(val_tree.root.children[0].category)\n",
    "print(mt.act_mut(val_tree.root, None, cooking_verbs))\n"
   ],
   "metadata": {
    "collapsed": false
   }
  },
  {
   "cell_type": "code",
   "execution_count": 6,
   "outputs": [
    {
     "ename": "IndexError",
     "evalue": "list index out of range",
     "output_type": "error",
     "traceback": [
      "\u001B[0;31m---------------------------------------------------------------------------\u001B[0m",
      "\u001B[0;31mIndexError\u001B[0m                                Traceback (most recent call last)",
      "Cell \u001B[0;32mIn [6], line 1\u001B[0m\n\u001B[0;32m----> 1\u001B[0m \u001B[38;5;28mprint\u001B[39m(\u001B[43mval_tree\u001B[49m\u001B[38;5;241;43m.\u001B[39;49m\u001B[43mroot\u001B[49m\u001B[38;5;241;43m.\u001B[39;49m\u001B[43mchildren\u001B[49m\u001B[43m[\u001B[49m\u001B[38;5;241;43m2\u001B[39;49m\u001B[43m]\u001B[49m\u001B[38;5;241;43m.\u001B[39;49m\u001B[43mchildren\u001B[49m\u001B[43m[\u001B[49m\u001B[38;5;241;43m0\u001B[39;49m\u001B[43m]\u001B[49m\u001B[38;5;241;43m.\u001B[39;49m\u001B[43mchildren\u001B[49m\u001B[43m[\u001B[49m\u001B[38;5;241;43m0\u001B[39;49m\u001B[43m]\u001B[49m\u001B[38;5;241;43m.\u001B[39;49m\u001B[43mchildren\u001B[49m\u001B[43m[\u001B[49m\u001B[38;5;241;43m1\u001B[39;49m\u001B[43m]\u001B[49m\u001B[38;5;241m.\u001B[39mcategory)\n",
      "\u001B[0;31mIndexError\u001B[0m: list index out of range"
     ]
    }
   ],
   "source": [
    "print(val_tree.root.children[2].children[0].children[0].children[1].category)"
   ],
   "metadata": {
    "collapsed": false
   }
  },
  {
   "cell_type": "code",
   "execution_count": 7,
   "outputs": [],
   "source": [
    "vcop = val_tree.copy()"
   ],
   "metadata": {
    "collapsed": false
   }
  },
  {
   "cell_type": "code",
   "execution_count": 8,
   "outputs": [
    {
     "name": "stdout",
     "output_type": "stream",
     "text": [
      "3\n",
      "3\n"
     ]
    }
   ],
   "source": [
    "print(len(vcop.root.children))\n",
    "print(len(val_tree.root.children))"
   ],
   "metadata": {
    "collapsed": false
   }
  },
  {
   "cell_type": "code",
   "execution_count": 27,
   "outputs": [
    {
     "name": "stdout",
     "output_type": "stream",
     "text": [
      "action\n",
      "ing\n"
     ]
    }
   ],
   "source": [],
   "metadata": {
    "collapsed": false
   }
  },
  {
   "cell_type": "code",
   "execution_count": null,
   "outputs": [],
   "source": [],
   "metadata": {
    "collapsed": false
   }
  }
 ],
 "metadata": {
  "kernelspec": {
   "display_name": "Python 3",
   "language": "python",
   "name": "python3"
  },
  "language_info": {
   "codemirror_mode": {
    "name": "ipython",
    "version": 2
   },
   "file_extension": ".py",
   "mimetype": "text/x-python",
   "name": "python",
   "nbconvert_exporter": "python",
   "pygments_lexer": "ipython2",
   "version": "2.7.6"
  }
 },
 "nbformat": 4,
 "nbformat_minor": 0
}
