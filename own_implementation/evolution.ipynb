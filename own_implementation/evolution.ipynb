{
 "cells": [
  {
   "cell_type": "code",
   "execution_count": 1,
   "metadata": {
    "collapsed": true
   },
   "outputs": [],
   "source": [
    "import sys\n",
    "sys.path.append( '/Users/sultandaniels/Documents/ENGN1000/mealmaker_real/src/autochef/data' )\n",
    "import node as nd\n",
    "import Mutation as mt\n",
    "import initial_popul as pop\n",
    "import numpy as np\n",
    "import fitness_eval as fit\n"
   ]
  },
  {
   "cell_type": "code",
   "execution_count": 2,
   "outputs": [],
   "source": [
    "import ingredients_list as all_ing\n",
    "all_ing = all_ing.ingredients\n",
    "import actions_list\n",
    "cooking_verbs = actions_list.cooking_verbs\n",
    "heat = actions_list.heat\n",
    "cool = actions_list.cool\n",
    "prepare = actions_list.prepare"
   ],
   "metadata": {
    "collapsed": false
   }
  },
  {
   "cell_type": "code",
   "execution_count": 3,
   "outputs": [],
   "source": [
    "ing_ing_mat = np.loadtxt('/Users/sultandaniels/Documents/ENGN1000/adj_matrices/ingredients_to_ingredients_thresholded_matrix.csv', delimiter=\",\", dtype=float)\n",
    "\n",
    "act_ing_mat = np.loadtxt('/Users/sultandaniels/Documents/ENGN1000/adj_matrices/actions_to_ingredients_thresholded_matrix.csv', delimiter=\",\", dtype=float)\n",
    "\n",
    "actgrp_ing_mat = np.loadtxt('/Users/sultandaniels/Documents/ENGN1000/adj_matrices/action_groups_to_ingredients_heat_cool_prepare_thresholded_matrix.csv', delimiter=\",\", dtype=float)\n",
    "\n",
    "prep_inds = np.loadtxt('/Users/sultandaniels/Documents/ENGN1000/actions_and_ingredients_lists/prepare_actions_indices.csv', delimiter=\",\", dtype=float)\n",
    "prep_inds = prep_inds.astype(int)\n",
    "prep_inds = prep_inds.tolist()\n",
    "\n",
    "heat_inds = np.loadtxt('/Users/sultandaniels/Documents/ENGN1000/actions_and_ingredients_lists/heat_actions_indices.csv', delimiter=\",\", dtype=float)\n",
    "\n",
    "heat_inds = heat_inds.astype(int)\n",
    "heat_inds = heat_inds.tolist()"
   ],
   "metadata": {
    "collapsed": false
   }
  },
  {
   "cell_type": "markdown",
   "source": [
    "# Test Tree Creation"
   ],
   "metadata": {
    "collapsed": false
   }
  },
  {
   "cell_type": "code",
   "execution_count": 6,
   "outputs": [
    {
     "name": "stdout",
     "output_type": "stream",
     "text": [
      "user inputted ings:\n",
      " ['parsley flakes', 'tomato ketchup', 'Bob Evans Italian Sausage', 'boneless country pork ribs', 'barbecue rub', 'asian wheat noodles', 'boneless ham', 'caramels', 'mexicorn', 'unsweetened dried coconut', 'wensleydale', 'coconut aminos', 'accompaniment', 'liquid', 'field peas', 'cheese slices', 'bacon drippings', 'rosemary sprigs', 'chinese black vinegar', 'fat free cream cheese', 'beet greens', 'white bread crumbs', 'muscadine grapes', 'nonhydrogenated margarine', 'chicken breast tenders', 'toor dal', 'mixed bell peppers', 'skate', 'salted mixed nuts', 'madeira wine', 'tomato cream sauce', 'raspberry sherbet', 'dried pineapple', 'fresh tomatoes', 'green bell pepper', 'beefsteak tomatoes', 'veal shoulder', 'beer batter', 'pork spare ribs', 'date molasses', 'sliced ham', 'sweet pepper', 'groundnut', 'button mushrooms', 'rolls', 'dried strawberries', 'meat stock', 'prune puree', 'natural low-fat yogurt', 'poppy seed dressing', 'alfredo sauce mix', 'cress', 'dried pear', 'angel hair', 'powdered egg whites', 'Johnsonville Mild Italian Sausage Links', 'tongue', 'rock salt', 'artichoke hearts', 'anise liqueur', 'pitted date', 'tikka masala curry paste', 'pineapple juice concentrate', 'corn grits', 'beef ribs', 'bean curd skins', 'wheat crackers', 'venison', 'burgundy wine', 'saffron', 'salted peanuts', 'reposado', 'standing rib roast', 'dark soy', 'Pace Picante Sauce', 'Mizkan Rice Vinegar', 'ground poppy seed', 'lamb loin', 'leg of lamb', 'garlic pepper blend', 'dried scallops', 'dark chocolate cocoa powder', 'porcini powder', 'mini phyllo dough shells', 'vanilla pods', 'tamarind', 'cardamom pods', 'shredded low-fat mozzarella cheese', 'chop fine pecan', 'hungarian hot paprika', 'new mexico chile pods', 'ramen', 'strawberry yogurt', 'jamaican jerk season', 'palm vinegar', 'truffles', 'chunky salsa', 'artichoke bottoms', 'watercress', 'waffle fries']\n",
      "ingredient indices:\n",
      " [0, 1, 2, 3, 4, 5, 6, 7, 8, 9, 10, 11, 12, 13, 14, 15, 16, 17, 18, 19, 20, 21, 22, 23, 24, 25, 26, 27, 28, 29, 30, 31, 32, 33, 34, 35, 36, 37, 38, 39, 40, 41, 42, 43, 44, 45, 46, 47, 48, 49, 50, 51, 52, 53, 54, 55, 56, 57, 58, 59, 60, 61, 62, 63, 64, 65, 66, 67, 68, 69, 70, 71, 72, 73, 74, 75, 76, 77, 78, 79, 80, 81, 82, 83, 84, 85, 86, 87, 88, 89, 90, 91, 92, 93, 94, 95, 96, 97, 98, 99]\n",
      "\n",
      "initial trees:\n",
      "tree 0 root: parsley flakes\n",
      "tree 1 root: tomato ketchup\n",
      "tree 2 root: Bob Evans Italian Sausage\n",
      "tree 3 root: boneless country pork ribs\n",
      "tree 4 root: barbecue rub\n",
      "tree 5 root: asian wheat noodles\n",
      "tree 6 root: boneless ham\n",
      "tree 7 root: caramels\n",
      "tree 8 root: mexicorn\n",
      "tree 9 root: unsweetened dried coconut\n",
      "tree 10 root: wensleydale\n",
      "tree 11 root: coconut aminos\n",
      "tree 12 root: accompaniment\n",
      "tree 13 root: liquid\n",
      "tree 14 root: field peas\n",
      "tree 15 root: cheese slices\n",
      "tree 16 root: bacon drippings\n",
      "tree 17 root: rosemary sprigs\n",
      "tree 18 root: chinese black vinegar\n",
      "tree 19 root: fat free cream cheese\n",
      "tree 20 root: beet greens\n",
      "tree 21 root: white bread crumbs\n",
      "tree 22 root: muscadine grapes\n",
      "tree 23 root: nonhydrogenated margarine\n",
      "tree 24 root: chicken breast tenders\n",
      "tree 25 root: toor dal\n",
      "tree 26 root: mixed bell peppers\n",
      "tree 27 root: skate\n",
      "tree 28 root: salted mixed nuts\n",
      "tree 29 root: madeira wine\n",
      "tree 30 root: tomato cream sauce\n",
      "tree 31 root: raspberry sherbet\n",
      "tree 32 root: dried pineapple\n",
      "tree 33 root: fresh tomatoes\n",
      "tree 34 root: green bell pepper\n",
      "tree 35 root: beefsteak tomatoes\n",
      "tree 36 root: veal shoulder\n",
      "tree 37 root: beer batter\n",
      "tree 38 root: pork spare ribs\n",
      "tree 39 root: date molasses\n",
      "tree 40 root: sliced ham\n",
      "tree 41 root: sweet pepper\n",
      "tree 42 root: groundnut\n",
      "tree 43 root: button mushrooms\n",
      "tree 44 root: rolls\n",
      "tree 45 root: dried strawberries\n",
      "tree 46 root: meat stock\n",
      "tree 47 root: prune puree\n",
      "tree 48 root: natural low-fat yogurt\n",
      "tree 49 root: poppy seed dressing\n",
      "tree 50 root: alfredo sauce mix\n",
      "tree 51 root: cress\n",
      "tree 52 root: dried pear\n",
      "tree 53 root: angel hair\n",
      "tree 54 root: powdered egg whites\n",
      "tree 55 root: Johnsonville Mild Italian Sausage Links\n",
      "tree 56 root: tongue\n",
      "tree 57 root: rock salt\n",
      "tree 58 root: artichoke hearts\n",
      "tree 59 root: anise liqueur\n",
      "tree 60 root: pitted date\n",
      "tree 61 root: tikka masala curry paste\n",
      "tree 62 root: pineapple juice concentrate\n",
      "tree 63 root: corn grits\n",
      "tree 64 root: beef ribs\n",
      "tree 65 root: bean curd skins\n",
      "tree 66 root: wheat crackers\n",
      "tree 67 root: venison\n",
      "tree 68 root: burgundy wine\n",
      "tree 69 root: saffron\n",
      "tree 70 root: salted peanuts\n",
      "tree 71 root: reposado\n",
      "tree 72 root: standing rib roast\n",
      "tree 73 root: dark soy\n",
      "tree 74 root: Pace Picante Sauce\n",
      "tree 75 root: Mizkan Rice Vinegar\n",
      "tree 76 root: ground poppy seed\n",
      "tree 77 root: lamb loin\n",
      "tree 78 root: leg of lamb\n",
      "tree 79 root: garlic pepper blend\n",
      "tree 80 root: dried scallops\n",
      "tree 81 root: dark chocolate cocoa powder\n",
      "tree 82 root: porcini powder\n",
      "tree 83 root: mini phyllo dough shells\n",
      "tree 84 root: vanilla pods\n",
      "tree 85 root: tamarind\n",
      "tree 86 root: cardamom pods\n",
      "tree 87 root: shredded low-fat mozzarella cheese\n",
      "tree 88 root: chop fine pecan\n",
      "tree 89 root: hungarian hot paprika\n",
      "tree 90 root: new mexico chile pods\n",
      "tree 91 root: ramen\n",
      "tree 92 root: strawberry yogurt\n",
      "tree 93 root: jamaican jerk season\n",
      "tree 94 root: palm vinegar\n",
      "tree 95 root: truffles\n",
      "tree 96 root: chunky salsa\n",
      "tree 97 root: artichoke bottoms\n",
      "tree 98 root: watercress\n",
      "tree 99 root: waffle fries\n",
      "need_prep: [0, 0, 0, 0, 0, 0, 0, 0, 1, 0, 0, 1, 1, 1, 0, 0, 0, 0, 0, 0, 0, 0, 0, 0, 0, 0, 0, 1, 0, 0, 0, 0, 1, 0, 0, 0, 0, 0, 0, 0, 0, 0, 1, 0, 0, 0, 0, 0, 0, 0, 0, 1, 0, 0, 0, 0, 1, 0, 0, 0, 0, 0, 0, 0, 0, 0, 0, 1, 0, 1, 0, 0, 0, 0, 0, 0, 0, 0, 0, 0, 0, 0, 0, 0, 1, 1, 0, 0, 0, 0, 0, 0, 0, 0, 0, 0, 0, 0, 1, 0]\n",
      "\n",
      "prepare actions added\n",
      "tree 0 root: parsley flakes\n",
      "tree 1 root: tomato ketchup\n",
      "tree 2 root: Bob Evans Italian Sausage\n",
      "tree 3 root: boneless country pork ribs\n",
      "tree 4 root: barbecue rub\n",
      "tree 5 root: asian wheat noodles\n",
      "tree 6 root: boneless ham\n",
      "tree 7 root: caramels\n",
      "tree 8 root: marinate\n",
      "tree 9 root: unsweetened dried coconut\n",
      "tree 10 root: wensleydale\n",
      "tree 11 root: cool\n",
      "tree 12 root: garnish\n",
      "tree 13 root: serve\n",
      "tree 14 root: field peas\n",
      "tree 15 root: cheese slices\n",
      "tree 16 root: bacon drippings\n",
      "tree 17 root: rosemary sprigs\n",
      "tree 18 root: chinese black vinegar\n",
      "tree 19 root: fat free cream cheese\n",
      "tree 20 root: beet greens\n",
      "tree 21 root: white bread crumbs\n",
      "tree 22 root: muscadine grapes\n",
      "tree 23 root: nonhydrogenated margarine\n",
      "tree 24 root: chicken breast tenders\n",
      "tree 25 root: toor dal\n",
      "tree 26 root: mixed bell peppers\n",
      "tree 27 root: salt\n",
      "tree 28 root: salted mixed nuts\n",
      "tree 29 root: madeira wine\n",
      "tree 30 root: tomato cream sauce\n",
      "tree 31 root: raspberry sherbet\n",
      "tree 32 root: slice\n",
      "tree 33 root: fresh tomatoes\n",
      "tree 34 root: green bell pepper\n",
      "tree 35 root: beefsteak tomatoes\n",
      "tree 36 root: veal shoulder\n",
      "tree 37 root: beer batter\n",
      "tree 38 root: pork spare ribs\n",
      "tree 39 root: date molasses\n",
      "tree 40 root: sliced ham\n",
      "tree 41 root: sweet pepper\n",
      "tree 42 root: add\n",
      "tree 43 root: button mushrooms\n",
      "tree 44 root: rolls\n",
      "tree 45 root: dried strawberries\n",
      "tree 46 root: meat stock\n",
      "tree 47 root: prune puree\n",
      "tree 48 root: natural low-fat yogurt\n",
      "tree 49 root: poppy seed dressing\n",
      "tree 50 root: alfredo sauce mix\n",
      "tree 51 root: serve\n",
      "tree 52 root: dried pear\n",
      "tree 53 root: angel hair\n",
      "tree 54 root: powdered egg whites\n",
      "tree 55 root: Johnsonville Mild Italian Sausage Links\n",
      "tree 56 root: cover\n",
      "tree 57 root: rock salt\n",
      "tree 58 root: artichoke hearts\n",
      "tree 59 root: anise liqueur\n",
      "tree 60 root: pitted date\n",
      "tree 61 root: tikka masala curry paste\n",
      "tree 62 root: pineapple juice concentrate\n",
      "tree 63 root: corn grits\n",
      "tree 64 root: beef ribs\n",
      "tree 65 root: bean curd skins\n",
      "tree 66 root: wheat crackers\n",
      "tree 67 root: salt\n",
      "tree 68 root: burgundy wine\n",
      "tree 69 root: salt\n",
      "tree 70 root: salted peanuts\n",
      "tree 71 root: reposado\n",
      "tree 72 root: standing rib roast\n",
      "tree 73 root: dark soy\n",
      "tree 74 root: Pace Picante Sauce\n",
      "tree 75 root: Mizkan Rice Vinegar\n",
      "tree 76 root: ground poppy seed\n",
      "tree 77 root: lamb loin\n",
      "tree 78 root: leg of lamb\n",
      "tree 79 root: garlic pepper blend\n",
      "tree 80 root: dried scallops\n",
      "tree 81 root: dark chocolate cocoa powder\n",
      "tree 82 root: porcini powder\n",
      "tree 83 root: mini phyllo dough shells\n",
      "tree 84 root: correct\n",
      "tree 85 root: sugar\n",
      "tree 86 root: cardamom pods\n",
      "tree 87 root: shredded low-fat mozzarella cheese\n",
      "tree 88 root: chop fine pecan\n",
      "tree 89 root: hungarian hot paprika\n",
      "tree 90 root: new mexico chile pods\n",
      "tree 91 root: ramen\n",
      "tree 92 root: strawberry yogurt\n",
      "tree 93 root: jamaican jerk season\n",
      "tree 94 root: palm vinegar\n",
      "tree 95 root: truffles\n",
      "tree 96 root: chunky salsa\n",
      "tree 97 root: artichoke bottoms\n",
      "tree 98 root: serve\n",
      "tree 99 root: waffle fries\n",
      "need_heat: [1, 1, 1, 1, 1, 1, 1, 1, 1, 1, 1, 1, 0, 0, 0, 1, 1, 1, 1, 1, 1, 1, 1, 1, 1, 1, 1, 0, 1, 1, 1, 1, 1, 1, 1, 0, 1, 1, 1, 1, 1, 1, 0, 1, 1, 1, 1, 1, 1, 1, 1, 0, 1, 1, 1, 1, 0, 1, 1, 1, 1, 1, 1, 1, 1, 1, 1, 0, 1, 0, 1, 1, 1, 1, 1, 1, 1, 1, 1, 1, 1, 1, 0, 1, 1, 0, 1, 1, 1, 1, 1, 1, 1, 1, 1, 1, 1, 1, 0, 1]\n",
      "\n",
      "heat actions added\n",
      "tree 0 root: poach\n",
      "tree 1 root: broil\n",
      "tree 2 root: braise\n",
      "tree 3 root: brown\n",
      "tree 4 root: poach\n",
      "tree 5 root: fry\n",
      "tree 6 root: broil\n",
      "tree 7 root: burn\n",
      "tree 8 root: heat\n",
      "tree 9 root: bake\n",
      "tree 10 root: toast\n",
      "tree 11 root: toast\n",
      "tree 12 root: garnish\n",
      "tree 13 root: serve\n",
      "tree 14 root: field peas\n",
      "tree 15 root: poach\n",
      "tree 16 root: grill\n",
      "tree 17 root: toast\n",
      "tree 18 root: bake\n",
      "tree 19 root: bake\n",
      "tree 20 root: cook\n",
      "tree 21 root: heat\n",
      "tree 22 root: braise\n",
      "tree 23 root: toast\n",
      "tree 24 root: sauté\n",
      "tree 25 root: heat\n",
      "tree 26 root: braise\n",
      "tree 27 root: salt\n",
      "tree 28 root: bake\n",
      "tree 29 root: roast\n",
      "tree 30 root: heat\n",
      "tree 31 root: steam\n",
      "tree 32 root: heat\n",
      "tree 33 root: braise\n",
      "tree 34 root: slowcook\n",
      "tree 35 root: beefsteak tomatoes\n",
      "tree 36 root: grill\n",
      "tree 37 root: fry\n",
      "tree 38 root: bake\n",
      "tree 39 root: fry\n",
      "tree 40 root: bake\n",
      "tree 41 root: braise\n",
      "tree 42 root: add\n",
      "tree 43 root: heat\n",
      "tree 44 root: simmer\n",
      "tree 45 root: toast\n",
      "tree 46 root: simmer\n",
      "tree 47 root: roast\n",
      "tree 48 root: brown\n",
      "tree 49 root: boil\n",
      "tree 50 root: brown\n",
      "tree 51 root: serve\n",
      "tree 52 root: toast\n",
      "tree 53 root: simmer\n",
      "tree 54 root: bake\n",
      "tree 55 root: braise\n",
      "tree 56 root: cover\n",
      "tree 57 root: scorch\n",
      "tree 58 root: fry\n",
      "tree 59 root: steam\n",
      "tree 60 root: cook\n",
      "tree 61 root: broil\n",
      "tree 62 root: steam\n",
      "tree 63 root: grill\n",
      "tree 64 root: bake\n",
      "tree 65 root: scorch\n",
      "tree 66 root: sauté\n",
      "tree 67 root: salt\n",
      "tree 68 root: grill\n",
      "tree 69 root: salt\n",
      "tree 70 root: burn\n",
      "tree 71 root: toast\n",
      "tree 72 root: grill\n",
      "tree 73 root: grill\n",
      "tree 74 root: boil\n",
      "tree 75 root: poach\n",
      "tree 76 root: cook\n",
      "tree 77 root: braise\n",
      "tree 78 root: roast\n",
      "tree 79 root: simmer\n",
      "tree 80 root: fry\n",
      "tree 81 root: roast\n",
      "tree 82 root: porcini powder\n",
      "tree 83 root: poach\n",
      "tree 84 root: sauté\n",
      "tree 85 root: sugar\n",
      "tree 86 root: heat\n",
      "tree 87 root: simmer\n",
      "tree 88 root: burn\n",
      "tree 89 root: boil\n",
      "tree 90 root: poach\n",
      "tree 91 root: boil\n",
      "tree 92 root: poach\n",
      "tree 93 root: slowcook\n",
      "tree 94 root: scorch\n",
      "tree 95 root: grill\n",
      "tree 96 root: poach\n",
      "tree 97 root: roast\n",
      "tree 98 root: serve\n",
      "tree 99 root: bake\n",
      "\n",
      "merge trees with the same action root\n",
      "tree 0 root: poach\n",
      "tree 1 root: broil\n",
      "tree 2 root: braise\n",
      "tree 3 root: brown\n",
      "tree 4 root: fry\n",
      "tree 5 root: burn\n",
      "tree 6 root: heat\n",
      "tree 7 root: bake\n",
      "tree 8 root: toast\n",
      "tree 9 root: garnish\n",
      "tree 10 root: serve\n",
      "tree 11 root: field peas\n",
      "tree 12 root: grill\n",
      "tree 13 root: cook\n",
      "tree 14 root: sauté\n",
      "tree 15 root: salt\n",
      "tree 16 root: roast\n",
      "tree 17 root: steam\n",
      "tree 18 root: slowcook\n",
      "tree 19 root: beefsteak tomatoes\n",
      "tree 20 root: add\n",
      "tree 21 root: simmer\n",
      "tree 22 root: boil\n",
      "tree 23 root: cover\n",
      "tree 24 root: scorch\n",
      "tree 25 root: porcini powder\n",
      "tree 26 root: sugar\n",
      "\n",
      "final valid tree\n",
      "root: mix\n",
      "root's children:\n",
      "child 0 : poach\n",
      "child 1 : broil\n",
      "child 2 : braise\n",
      "child 3 : brown\n",
      "child 4 : fry\n",
      "child 5 : burn\n",
      "child 6 : heat\n",
      "child 7 : bake\n",
      "child 8 : toast\n",
      "child 9 : garnish\n",
      "child 10 : serve\n",
      "child 11 : field peas\n",
      "child 12 : grill\n",
      "child 13 : cook\n",
      "child 14 : sauté\n",
      "child 15 : salt\n",
      "child 16 : roast\n",
      "child 17 : steam\n",
      "child 18 : slowcook\n",
      "child 19 : beefsteak tomatoes\n",
      "child 20 : add\n",
      "child 21 : simmer\n",
      "child 22 : boil\n",
      "child 23 : cover\n",
      "child 24 : scorch\n",
      "child 25 : porcini powder\n",
      "child 26 : sugar\n"
     ]
    }
   ],
   "source": [
    "ings = all_ing[0:100] # user inputted ingredients\n",
    "\n",
    "ing_inds = pop.ing_indices(ings, all_ing) # ingredient indices\n",
    "\n",
    "test_tree = pop.initialize_tree(1,ings,all_ing,ing_inds,act_ing_mat,prep_inds,heat_inds,actgrp_ing_mat,0.35,cooking_verbs,0.65)"
   ],
   "metadata": {
    "collapsed": false
   }
  },
  {
   "cell_type": "markdown",
   "source": [
    "# Mutating the Tree"
   ],
   "metadata": {
    "collapsed": false
   }
  },
  {
   "cell_type": "code",
   "execution_count": 5,
   "outputs": [],
   "source": [
    "# initialize population\n",
    "current_pop = pop.init_pop(75, ings, all_ing, ing_inds, act_ing_mat, prep_inds, heat_inds, actgrp_ing_mat, 0.35, cooking_verbs, 0.65)\n",
    "\n",
    "\n",
    "# gens = 35\n",
    "# k = np.random.randint(3)\n",
    "# if k == 0: # mutate mix node\n",
    "# elif k == 1: # mutate action node\n",
    "# elif k == 2: # mutate ingredient node"
   ],
   "metadata": {
    "collapsed": false
   }
  },
  {
   "cell_type": "code",
   "execution_count": 12,
   "outputs": [
    {
     "name": "stdout",
     "output_type": "stream",
     "text": [
      "[<node.Node object at 0x117672260>, <node.Node object at 0x1176722c0>, <node.Node object at 0x1176721a0>, <node.Node object at 0x117672200>, <node.Node object at 0x117672320>]\n"
     ]
    }
   ],
   "source": [],
   "metadata": {
    "collapsed": false
   }
  },
  {
   "cell_type": "code",
   "execution_count": 5,
   "outputs": [],
   "source": [
    "node1 = nd.Node(\"action\", 3)\n",
    "node2 = nd.Node(\"action\", 2)\n",
    "node3 = nd.Node(\"mix\", 3)\n",
    "node4 = nd.Node(\"ing\", 4)\n",
    "node5 = nd.Node(\"ing\", 12)\n",
    "node6 = nd.Node(\"ing\", 317)\n",
    "\n",
    "\n",
    "nd.Node.insert_child(node3,[node1, node2])\n",
    "tree1 = nd.Tree(node3)\n",
    "nd.Node.insert_child(node2,[node5])\n",
    "tree2 = nd.Tree(node2)\n",
    "nd.Node.insert_child(node1,[node6,node4])\n",
    "tree3 = nd.Tree(node1)\n",
    "tree4 = nd.Tree(node4)\n",
    "\n",
    "# node1.children.append(node.Node(3)) #figure out index\n",
    "# print(node1.children[0].index)"
   ],
   "metadata": {
    "collapsed": false
   }
  },
  {
   "cell_type": "code",
   "execution_count": 35,
   "outputs": [
    {
     "name": "stdout",
     "output_type": "stream",
     "text": [
      "[<node.Tree object at 0x121757f70>, <node.Tree object at 0x121780700>, <node.Tree object at 0x121754ac0>, <node.Tree object at 0x1217571f0>]\n"
     ]
    }
   ],
   "source": [
    "trees = nd.Tree.check_same_act([tree2,tree1,tree3,tree4])\n",
    "print(trees)"
   ],
   "metadata": {
    "collapsed": false
   }
  },
  {
   "cell_type": "code",
   "execution_count": 36,
   "outputs": [
    {
     "name": "stdout",
     "output_type": "stream",
     "text": [
      "[<node.Node object at 0x1217577f0>, <node.Node object at 0x121757970>, <node.Node object at 0x121754190>, <node.Node object at 0x121754730>]\n"
     ]
    }
   ],
   "source": [
    "val_tree = nd.Tree.make_valid(trees)\n",
    "print(val_tree.root.children)"
   ],
   "metadata": {
    "collapsed": false
   }
  },
  {
   "cell_type": "code",
   "execution_count": 5,
   "outputs": [
    {
     "name": "stdout",
     "output_type": "stream",
     "text": [
      "3\n",
      "action\n",
      "adding action 106\n",
      "True\n"
     ]
    }
   ],
   "source": [
    "print(len(val_tree.root.children))\n",
    "print(val_tree.root.children[0].category)\n",
    "print(mt.act_mut(val_tree.root, None, cooking_verbs))\n"
   ],
   "metadata": {
    "collapsed": false
   }
  },
  {
   "cell_type": "code",
   "execution_count": 6,
   "outputs": [
    {
     "ename": "IndexError",
     "evalue": "list index out of range",
     "output_type": "error",
     "traceback": [
      "\u001B[0;31m---------------------------------------------------------------------------\u001B[0m",
      "\u001B[0;31mIndexError\u001B[0m                                Traceback (most recent call last)",
      "Cell \u001B[0;32mIn [6], line 1\u001B[0m\n\u001B[0;32m----> 1\u001B[0m \u001B[38;5;28mprint\u001B[39m(\u001B[43mval_tree\u001B[49m\u001B[38;5;241;43m.\u001B[39;49m\u001B[43mroot\u001B[49m\u001B[38;5;241;43m.\u001B[39;49m\u001B[43mchildren\u001B[49m\u001B[43m[\u001B[49m\u001B[38;5;241;43m2\u001B[39;49m\u001B[43m]\u001B[49m\u001B[38;5;241;43m.\u001B[39;49m\u001B[43mchildren\u001B[49m\u001B[43m[\u001B[49m\u001B[38;5;241;43m0\u001B[39;49m\u001B[43m]\u001B[49m\u001B[38;5;241;43m.\u001B[39;49m\u001B[43mchildren\u001B[49m\u001B[43m[\u001B[49m\u001B[38;5;241;43m0\u001B[39;49m\u001B[43m]\u001B[49m\u001B[38;5;241;43m.\u001B[39;49m\u001B[43mchildren\u001B[49m\u001B[43m[\u001B[49m\u001B[38;5;241;43m1\u001B[39;49m\u001B[43m]\u001B[49m\u001B[38;5;241m.\u001B[39mcategory)\n",
      "\u001B[0;31mIndexError\u001B[0m: list index out of range"
     ]
    }
   ],
   "source": [
    "print(val_tree.root.children[2].children[0].children[0].children[1].category)"
   ],
   "metadata": {
    "collapsed": false
   }
  },
  {
   "cell_type": "code",
   "execution_count": 7,
   "outputs": [],
   "source": [
    "vcop = val_tree.copy()"
   ],
   "metadata": {
    "collapsed": false
   }
  },
  {
   "cell_type": "code",
   "execution_count": 8,
   "outputs": [
    {
     "name": "stdout",
     "output_type": "stream",
     "text": [
      "3\n",
      "3\n"
     ]
    }
   ],
   "source": [
    "print(len(vcop.root.children))\n",
    "print(len(val_tree.root.children))"
   ],
   "metadata": {
    "collapsed": false
   }
  },
  {
   "cell_type": "code",
   "execution_count": 27,
   "outputs": [
    {
     "name": "stdout",
     "output_type": "stream",
     "text": [
      "action\n",
      "ing\n"
     ]
    }
   ],
   "source": [],
   "metadata": {
    "collapsed": false
   }
  },
  {
   "cell_type": "markdown",
   "source": [
    "# Fitness Eval"
   ],
   "metadata": {
    "collapsed": false
   }
  },
  {
   "cell_type": "code",
   "execution_count": null,
   "outputs": [],
   "source": [],
   "metadata": {
    "collapsed": false
   }
  },
  {
   "cell_type": "code",
   "execution_count": 11,
   "outputs": [
    {
     "name": "stdout",
     "output_type": "stream",
     "text": [
      "1\n"
     ]
    }
   ],
   "source": [
    "print(fit.num_acts(test_tree.root,0,15))"
   ],
   "metadata": {
    "collapsed": false
   }
  },
  {
   "cell_type": "code",
   "execution_count": 21,
   "outputs": [
    {
     "name": "stdout",
     "output_type": "stream",
     "text": [
      "action\n",
      "ing\n",
      "11\n"
     ]
    }
   ],
   "source": [
    "first_child = test_tree.root.children[0]\n",
    "print(first_child.category)\n",
    "print(first_child.children[0].category)\n",
    "print(first_child.children[0].index)"
   ],
   "metadata": {
    "collapsed": false
   }
  },
  {
   "cell_type": "code",
   "execution_count": 14,
   "outputs": [
    {
     "name": "stdout",
     "output_type": "stream",
     "text": [
      "[<node.Node object at 0x109b271c0>, <node.Node object at 0x109b26b90>, <node.Node object at 0x109b270d0>, <node.Node object at 0x109b24e20>, <node.Node object at 0x109b272e0>]\n"
     ]
    }
   ],
   "source": [],
   "metadata": {
    "collapsed": false
   }
  },
  {
   "cell_type": "code",
   "execution_count": 20,
   "outputs": [
    {
     "name": "stdout",
     "output_type": "stream",
     "text": [
      "deleting action 2\n"
     ]
    },
    {
     "data": {
      "text/plain": "True"
     },
     "execution_count": 20,
     "metadata": {},
     "output_type": "execute_result"
    }
   ],
   "source": [],
   "metadata": {
    "collapsed": false
   }
  },
  {
   "cell_type": "code",
   "execution_count": 29,
   "outputs": [
    {
     "name": "stdout",
     "output_type": "stream",
     "text": [
      "None\n"
     ]
    }
   ],
   "source": [],
   "metadata": {
    "collapsed": false
   }
  },
  {
   "cell_type": "code",
   "execution_count": 5,
   "outputs": [
    {
     "name": "stdout",
     "output_type": "stream",
     "text": [
      "None\n"
     ]
    }
   ],
   "source": [
    "node1 = nd.Node(\"action\", 2)\n",
    "node2 = nd.Node(\"action\", 2)\n",
    "node3 = nd.Node(\"action\", 2)\n",
    "node4 = nd.Node(\"ing\", 13)\n",
    "node5 = nd.Node(\"ing\", 67)\n",
    "node6 = nd.Node(\"ing\", 109)\n",
    "\n",
    "nd.Node.insert_child(node3,[node4, node5,node6])\n",
    "nd.Node.insert_child(node2,[node3])\n",
    "nd.Node.insert_child(node1,[node2])\n",
    "tree1 = nd.Tree(node1)\n",
    "\n",
    "print(fit.num_dup_acts(node1,0,80,[]))"
   ],
   "metadata": {
    "collapsed": false
   }
  },
  {
   "cell_type": "code",
   "execution_count": 11,
   "outputs": [
    {
     "name": "stdout",
     "output_type": "stream",
     "text": [
      "here\n",
      "[1.0, 1.0, 1.0, 1.0, 1.0]\n"
     ]
    }
   ],
   "source": [
    "b_h = pop.need_heat_act(ings,all_ing,actgrp_ing_mat,0.65)\n",
    "b_p = pop.need_prep_act(ings,all_ing,actgrp_ing_mat,0.35)\n",
    "s_h = fit.s_heat(b_h, ings, actgrp_ing_mat, 0.65, 0.1)\n",
    "s_p = fit.s_heat(b_p, ings, actgrp_ing_mat, 0.35, 0.1)\n",
    "print(\"here\")\n",
    "s_a = fit.s_act(test_tree, ing_inds)\n",
    "print(fit.s_ing(s_h, s_p, s_a))"
   ],
   "metadata": {
    "collapsed": false
   }
  },
  {
   "cell_type": "code",
   "execution_count": 12,
   "outputs": [],
   "source": [
    "first_act = test_tree.root.children[0]"
   ],
   "metadata": {
    "collapsed": false
   }
  },
  {
   "cell_type": "code",
   "execution_count": 20,
   "outputs": [
    {
     "name": "stdout",
     "output_type": "stream",
     "text": [
      "[1, 1, 0]\n"
     ]
    }
   ],
   "source": [
    "print(fit.valid_act(node3, node3.index, act_ing_mat, []))"
   ],
   "metadata": {
    "collapsed": false
   }
  },
  {
   "cell_type": "code",
   "execution_count": 22,
   "outputs": [
    {
     "data": {
      "text/plain": "[<node.Node at 0x12061e8f0>, <node.Node at 0x12061feb0>]"
     },
     "execution_count": 22,
     "metadata": {},
     "output_type": "execute_result"
    }
   ],
   "source": [
    "first_act.children[0].index\n",
    "node3.children"
   ],
   "metadata": {
    "collapsed": false
   }
  },
  {
   "cell_type": "code",
   "execution_count": 18,
   "outputs": [
    {
     "data": {
      "text/plain": "0.0"
     },
     "execution_count": 18,
     "metadata": {},
     "output_type": "execute_result"
    }
   ],
   "source": [
    "act_ing_mat[first_act.index, first_act.children[0].index]"
   ],
   "metadata": {
    "collapsed": false
   }
  },
  {
   "cell_type": "code",
   "execution_count": 15,
   "outputs": [
    {
     "data": {
      "text/plain": "(array([  0,   0,   0, ..., 109, 109, 109]),\n array([  13,   56,   67, ..., 6704, 6709, 6713]))"
     },
     "execution_count": 15,
     "metadata": {},
     "output_type": "execute_result"
    }
   ],
   "source": [
    "act_ing_mat.nonzero()"
   ],
   "metadata": {
    "collapsed": false
   }
  },
  {
   "cell_type": "code",
   "execution_count": 18,
   "outputs": [
    {
     "data": {
      "text/plain": "0.0"
     },
     "execution_count": 18,
     "metadata": {},
     "output_type": "execute_result"
    }
   ],
   "source": [
    "act_ing_mat[2,109]"
   ],
   "metadata": {
    "collapsed": false
   }
  },
  {
   "cell_type": "code",
   "execution_count": 37,
   "outputs": [],
   "source": [
    "s_i = [None]*len(node3.children)\n",
    "s_i = fit.s_mix_tuples(node3, s_i)"
   ],
   "metadata": {
    "collapsed": false
   }
  },
  {
   "cell_type": "code",
   "execution_count": 38,
   "outputs": [
    {
     "data": {
      "text/plain": "[[317, 4], [12]]"
     },
     "execution_count": 38,
     "metadata": {},
     "output_type": "execute_result"
    }
   ],
   "source": [
    "s_i"
   ],
   "metadata": {
    "collapsed": false
   }
  },
  {
   "cell_type": "code",
   "execution_count": 39,
   "outputs": [],
   "source": [
    "tups = fit.tuple_pairs(s_i)"
   ],
   "metadata": {
    "collapsed": false
   }
  },
  {
   "cell_type": "code",
   "execution_count": 40,
   "outputs": [
    {
     "data": {
      "text/plain": "(317, 12)"
     },
     "execution_count": 40,
     "metadata": {},
     "output_type": "execute_result"
    }
   ],
   "source": [
    "tups[0]"
   ],
   "metadata": {
    "collapsed": false
   }
  },
  {
   "cell_type": "code",
   "execution_count": 42,
   "outputs": [
    {
     "data": {
      "text/plain": "1.0"
     },
     "execution_count": 42,
     "metadata": {},
     "output_type": "execute_result"
    }
   ],
   "source": [
    "fit.s_mix(tups,ing_ing_mat)"
   ],
   "metadata": {
    "collapsed": false
   }
  },
  {
   "cell_type": "code",
   "execution_count": 11,
   "outputs": [
    {
     "data": {
      "text/plain": "(array([  12,   12,   12, ..., 6713, 6713, 6713]),\n array([  12,  317,  979, ..., 5423, 6219, 6713]))"
     },
     "execution_count": 11,
     "metadata": {},
     "output_type": "execute_result"
    }
   ],
   "source": [
    "ing_ing_mat.nonzero()"
   ],
   "metadata": {
    "collapsed": false
   }
  },
  {
   "cell_type": "code",
   "execution_count": 7,
   "outputs": [
    {
     "data": {
      "text/plain": "0.5445722178802938"
     },
     "execution_count": 7,
     "metadata": {},
     "output_type": "execute_result"
    }
   ],
   "source": [
    "fit.tree_score(test_tree, ings, all_ing, ing_inds, actgrp_ing_mat, 0.65, 0.35, 0.1, 0.1, act_ing_mat, ing_ing_mat)"
   ],
   "metadata": {
    "collapsed": false
   }
  },
  {
   "cell_type": "code",
   "execution_count": 11,
   "outputs": [],
   "source": [],
   "metadata": {
    "collapsed": false
   }
  }
 ],
 "metadata": {
  "kernelspec": {
   "display_name": "Python 3",
   "language": "python",
   "name": "python3"
  },
  "language_info": {
   "codemirror_mode": {
    "name": "ipython",
    "version": 2
   },
   "file_extension": ".py",
   "mimetype": "text/x-python",
   "name": "python",
   "nbconvert_exporter": "python",
   "pygments_lexer": "ipython2",
   "version": "2.7.6"
  }
 },
 "nbformat": 4,
 "nbformat_minor": 0
}
