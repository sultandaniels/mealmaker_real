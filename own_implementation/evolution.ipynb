{
 "cells": [
  {
   "cell_type": "code",
   "execution_count": 1,
   "metadata": {
    "collapsed": true
   },
   "outputs": [],
   "source": [
    "import sys\n",
    "sys.path.append( '/Users/sultandaniels/Documents/ENGN1000/mealmaker_real/src/autochef/data' )\n",
    "import node as nd\n",
    "import Mutation as mt\n",
    "import initial_popul as pop\n",
    "import numpy as np\n",
    "import fitness_eval as fit\n"
   ]
  },
  {
   "cell_type": "code",
   "execution_count": 2,
   "outputs": [],
   "source": [
    "import ingredients_list as all_ing\n",
    "all_ing = all_ing.ingredients\n",
    "import actions_list\n",
    "cooking_verbs = actions_list.cooking_verbs\n",
    "heat = actions_list.heat\n",
    "cool = actions_list.cool\n",
    "prepare = actions_list.prepare"
   ],
   "metadata": {
    "collapsed": false
   }
  },
  {
   "cell_type": "code",
   "execution_count": 3,
   "outputs": [],
   "source": [
    "ing_ing_mat = np.loadtxt('/Users/sultandaniels/Documents/ENGN1000/adj_matrices/ingredients_to_ingredients_thresholded_matrix.csv', delimiter=\",\", dtype=float)\n",
    "\n",
    "act_ing_mat = np.loadtxt('/Users/sultandaniels/Documents/ENGN1000/adj_matrices/actions_to_ingredients_thresholded_matrix.csv', delimiter=\",\", dtype=float)\n",
    "\n",
    "actgrp_ing_mat = np.loadtxt('/Users/sultandaniels/Documents/ENGN1000/adj_matrices/action_groups_to_ingredients_heat_cool_prepare_thresholded_matrix.csv', delimiter=\",\", dtype=float)\n",
    "\n",
    "prep_inds = np.loadtxt('/Users/sultandaniels/Documents/ENGN1000/actions_and_ingredients_lists/prepare_actions_indices.csv', delimiter=\",\", dtype=float)\n",
    "prep_inds = prep_inds.astype(int)\n",
    "prep_inds = prep_inds.tolist()\n",
    "\n",
    "heat_inds = np.loadtxt('/Users/sultandaniels/Documents/ENGN1000/actions_and_ingredients_lists/heat_actions_indices.csv', delimiter=\",\", dtype=float)\n",
    "\n",
    "heat_inds = heat_inds.astype(int)\n",
    "heat_inds = heat_inds.tolist()"
   ],
   "metadata": {
    "collapsed": false
   }
  },
  {
   "cell_type": "markdown",
   "source": [
    "# Test Tree Creation"
   ],
   "metadata": {
    "collapsed": false
   }
  },
  {
   "cell_type": "code",
   "execution_count": 4,
   "outputs": [
    {
     "name": "stdout",
     "output_type": "stream",
     "text": [
      "user inputted ings:\n",
      " ['wensleydale', 'coconut aminos', 'accompaniment', 'liquid', 'field peas']\n",
      "ingredient indices:\n",
      " [10, 11, 12, 13, 14]\n",
      "\n",
      "initial trees:\n",
      "tree 0 root: wensleydale\n",
      "tree 1 root: coconut aminos\n",
      "tree 2 root: accompaniment\n",
      "tree 3 root: liquid\n",
      "tree 4 root: field peas\n",
      "need_prep: [0, 0, 1, 1, 0]\n",
      "\n",
      "prepare actions added\n",
      "tree 0 root: wensleydale\n",
      "tree 1 root: coconut aminos\n",
      "tree 2 root: garnish\n",
      "tree 3 root: serve\n",
      "tree 4 root: field peas\n",
      "need_heat: [1, 1, 0, 0, 1]\n",
      "\n",
      "heat actions added\n",
      "tree 0 root: burn\n",
      "tree 1 root: braise\n",
      "tree 2 root: garnish\n",
      "tree 3 root: serve\n",
      "tree 4 root: sauté\n",
      "\n",
      "merge trees with the same action root\n",
      "tree 0 root: burn\n",
      "tree 1 root: braise\n",
      "tree 2 root: garnish\n",
      "tree 3 root: serve\n",
      "tree 4 root: sauté\n",
      "\n",
      "final valid tree\n",
      "root: mix\n",
      "root's children:\n",
      "child 0 : burn\n",
      "child 1 : braise\n",
      "child 2 : garnish\n",
      "child 3 : serve\n",
      "child 4 : sauté\n"
     ]
    }
   ],
   "source": [
    "ings = all_ing[10:15] # user inputted ingredients\n",
    "\n",
    "ing_inds = pop.ing_indices(ings, all_ing) # ingredient indices\n",
    "\n",
    "test_tree = pop.initialize_tree(1,ings,all_ing,ing_inds,act_ing_mat,prep_inds,heat_inds,actgrp_ing_mat,0.35,cooking_verbs,0.65)"
   ],
   "metadata": {
    "collapsed": false
   }
  },
  {
   "cell_type": "markdown",
   "source": [
    "# Mutating the Tree"
   ],
   "metadata": {
    "collapsed": false
   }
  },
  {
   "cell_type": "code",
   "execution_count": 5,
   "outputs": [],
   "source": [
    "# initialize population\n",
    "current_pop = pop.init_pop(75, ings, all_ing, ing_inds, act_ing_mat, prep_inds, heat_inds, actgrp_ing_mat, 0.35, cooking_verbs, 0.65)\n",
    "\n",
    "\n",
    "# gens = 35\n",
    "# k = np.random.randint(3)\n",
    "# if k == 0: # mutate mix node\n",
    "# elif k == 1: # mutate action node\n",
    "# elif k == 2: # mutate ingredient node"
   ],
   "metadata": {
    "collapsed": false
   }
  },
  {
   "cell_type": "code",
   "execution_count": 12,
   "outputs": [
    {
     "name": "stdout",
     "output_type": "stream",
     "text": [
      "[<node.Node object at 0x117672260>, <node.Node object at 0x1176722c0>, <node.Node object at 0x1176721a0>, <node.Node object at 0x117672200>, <node.Node object at 0x117672320>]\n"
     ]
    }
   ],
   "source": [],
   "metadata": {
    "collapsed": false
   }
  },
  {
   "cell_type": "code",
   "execution_count": 34,
   "outputs": [],
   "source": [
    "node1 = nd.Node(\"action\", 3)\n",
    "node2 = nd.Node(\"action\", 2)\n",
    "node3 = nd.Node(\"mix\", 3)\n",
    "node4 = nd.Node(\"ing\", 4)\n",
    "node5 = nd.Node(\"ing\", 12)\n",
    "node6 = nd.Node(\"ing\", 317)\n",
    "\n",
    "\n",
    "nd.Node.insert_child(node3,[node1, node2])\n",
    "tree1 = nd.Tree(node3)\n",
    "nd.Node.insert_child(node2,[node5])\n",
    "tree2 = nd.Tree(node2)\n",
    "nd.Node.insert_child(node1,[node6,node4])\n",
    "tree3 = nd.Tree(node1)\n",
    "tree4 = nd.Tree(node4)\n",
    "\n",
    "# node1.children.append(node.Node(3)) #figure out index\n",
    "# print(node1.children[0].index)"
   ],
   "metadata": {
    "collapsed": false
   }
  },
  {
   "cell_type": "code",
   "execution_count": 35,
   "outputs": [
    {
     "name": "stdout",
     "output_type": "stream",
     "text": [
      "[<node.Tree object at 0x121757f70>, <node.Tree object at 0x121780700>, <node.Tree object at 0x121754ac0>, <node.Tree object at 0x1217571f0>]\n"
     ]
    }
   ],
   "source": [
    "trees = nd.Tree.check_same_act([tree2,tree1,tree3,tree4])\n",
    "print(trees)"
   ],
   "metadata": {
    "collapsed": false
   }
  },
  {
   "cell_type": "code",
   "execution_count": 36,
   "outputs": [
    {
     "name": "stdout",
     "output_type": "stream",
     "text": [
      "[<node.Node object at 0x1217577f0>, <node.Node object at 0x121757970>, <node.Node object at 0x121754190>, <node.Node object at 0x121754730>]\n"
     ]
    }
   ],
   "source": [
    "val_tree = nd.Tree.make_valid(trees)\n",
    "print(val_tree.root.children)"
   ],
   "metadata": {
    "collapsed": false
   }
  },
  {
   "cell_type": "code",
   "execution_count": 5,
   "outputs": [
    {
     "name": "stdout",
     "output_type": "stream",
     "text": [
      "3\n",
      "action\n",
      "adding action 106\n",
      "True\n"
     ]
    }
   ],
   "source": [
    "print(len(val_tree.root.children))\n",
    "print(val_tree.root.children[0].category)\n",
    "print(mt.act_mut(val_tree.root, None, cooking_verbs))\n"
   ],
   "metadata": {
    "collapsed": false
   }
  },
  {
   "cell_type": "code",
   "execution_count": 6,
   "outputs": [
    {
     "ename": "IndexError",
     "evalue": "list index out of range",
     "output_type": "error",
     "traceback": [
      "\u001B[0;31m---------------------------------------------------------------------------\u001B[0m",
      "\u001B[0;31mIndexError\u001B[0m                                Traceback (most recent call last)",
      "Cell \u001B[0;32mIn [6], line 1\u001B[0m\n\u001B[0;32m----> 1\u001B[0m \u001B[38;5;28mprint\u001B[39m(\u001B[43mval_tree\u001B[49m\u001B[38;5;241;43m.\u001B[39;49m\u001B[43mroot\u001B[49m\u001B[38;5;241;43m.\u001B[39;49m\u001B[43mchildren\u001B[49m\u001B[43m[\u001B[49m\u001B[38;5;241;43m2\u001B[39;49m\u001B[43m]\u001B[49m\u001B[38;5;241;43m.\u001B[39;49m\u001B[43mchildren\u001B[49m\u001B[43m[\u001B[49m\u001B[38;5;241;43m0\u001B[39;49m\u001B[43m]\u001B[49m\u001B[38;5;241;43m.\u001B[39;49m\u001B[43mchildren\u001B[49m\u001B[43m[\u001B[49m\u001B[38;5;241;43m0\u001B[39;49m\u001B[43m]\u001B[49m\u001B[38;5;241;43m.\u001B[39;49m\u001B[43mchildren\u001B[49m\u001B[43m[\u001B[49m\u001B[38;5;241;43m1\u001B[39;49m\u001B[43m]\u001B[49m\u001B[38;5;241m.\u001B[39mcategory)\n",
      "\u001B[0;31mIndexError\u001B[0m: list index out of range"
     ]
    }
   ],
   "source": [
    "print(val_tree.root.children[2].children[0].children[0].children[1].category)"
   ],
   "metadata": {
    "collapsed": false
   }
  },
  {
   "cell_type": "code",
   "execution_count": 7,
   "outputs": [],
   "source": [
    "vcop = val_tree.copy()"
   ],
   "metadata": {
    "collapsed": false
   }
  },
  {
   "cell_type": "code",
   "execution_count": 8,
   "outputs": [
    {
     "name": "stdout",
     "output_type": "stream",
     "text": [
      "3\n",
      "3\n"
     ]
    }
   ],
   "source": [
    "print(len(vcop.root.children))\n",
    "print(len(val_tree.root.children))"
   ],
   "metadata": {
    "collapsed": false
   }
  },
  {
   "cell_type": "code",
   "execution_count": 27,
   "outputs": [
    {
     "name": "stdout",
     "output_type": "stream",
     "text": [
      "action\n",
      "ing\n"
     ]
    }
   ],
   "source": [],
   "metadata": {
    "collapsed": false
   }
  },
  {
   "cell_type": "markdown",
   "source": [
    "# Fitness Eval"
   ],
   "metadata": {
    "collapsed": false
   }
  },
  {
   "cell_type": "code",
   "execution_count": null,
   "outputs": [],
   "source": [],
   "metadata": {
    "collapsed": false
   }
  },
  {
   "cell_type": "code",
   "execution_count": 11,
   "outputs": [
    {
     "name": "stdout",
     "output_type": "stream",
     "text": [
      "1\n"
     ]
    }
   ],
   "source": [
    "print(fit.num_acts(test_tree.root,0,15))"
   ],
   "metadata": {
    "collapsed": false
   }
  },
  {
   "cell_type": "code",
   "execution_count": 21,
   "outputs": [
    {
     "name": "stdout",
     "output_type": "stream",
     "text": [
      "action\n",
      "ing\n",
      "11\n"
     ]
    }
   ],
   "source": [
    "first_child = test_tree.root.children[0]\n",
    "print(first_child.category)\n",
    "print(first_child.children[0].category)\n",
    "print(first_child.children[0].index)"
   ],
   "metadata": {
    "collapsed": false
   }
  },
  {
   "cell_type": "code",
   "execution_count": 14,
   "outputs": [
    {
     "name": "stdout",
     "output_type": "stream",
     "text": [
      "[<node.Node object at 0x109b271c0>, <node.Node object at 0x109b26b90>, <node.Node object at 0x109b270d0>, <node.Node object at 0x109b24e20>, <node.Node object at 0x109b272e0>]\n"
     ]
    }
   ],
   "source": [],
   "metadata": {
    "collapsed": false
   }
  },
  {
   "cell_type": "code",
   "execution_count": 20,
   "outputs": [
    {
     "name": "stdout",
     "output_type": "stream",
     "text": [
      "deleting action 2\n"
     ]
    },
    {
     "data": {
      "text/plain": "True"
     },
     "execution_count": 20,
     "metadata": {},
     "output_type": "execute_result"
    }
   ],
   "source": [],
   "metadata": {
    "collapsed": false
   }
  },
  {
   "cell_type": "code",
   "execution_count": 29,
   "outputs": [
    {
     "name": "stdout",
     "output_type": "stream",
     "text": [
      "None\n"
     ]
    }
   ],
   "source": [],
   "metadata": {
    "collapsed": false
   }
  },
  {
   "cell_type": "code",
   "execution_count": 5,
   "outputs": [
    {
     "name": "stdout",
     "output_type": "stream",
     "text": [
      "None\n"
     ]
    }
   ],
   "source": [
    "node1 = nd.Node(\"action\", 2)\n",
    "node2 = nd.Node(\"action\", 2)\n",
    "node3 = nd.Node(\"action\", 2)\n",
    "node4 = nd.Node(\"ing\", 13)\n",
    "node5 = nd.Node(\"ing\", 67)\n",
    "node6 = nd.Node(\"ing\", 109)\n",
    "\n",
    "nd.Node.insert_child(node3,[node4, node5,node6])\n",
    "nd.Node.insert_child(node2,[node3])\n",
    "nd.Node.insert_child(node1,[node2])\n",
    "tree1 = nd.Tree(node1)\n",
    "\n",
    "print(fit.num_dup_acts(node1,0,80,[]))"
   ],
   "metadata": {
    "collapsed": false
   }
  },
  {
   "cell_type": "code",
   "execution_count": 11,
   "outputs": [
    {
     "name": "stdout",
     "output_type": "stream",
     "text": [
      "here\n",
      "[1.0, 1.0, 1.0, 1.0, 1.0]\n"
     ]
    }
   ],
   "source": [
    "b_h = pop.need_heat_act(ings,all_ing,actgrp_ing_mat,0.65)\n",
    "b_p = pop.need_prep_act(ings,all_ing,actgrp_ing_mat,0.35)\n",
    "s_h = fit.s_heat(b_h, ings, actgrp_ing_mat, 0.65, 0.1)\n",
    "s_p = fit.s_heat(b_p, ings, actgrp_ing_mat, 0.35, 0.1)\n",
    "print(\"here\")\n",
    "s_a = fit.s_act(test_tree, ing_inds)\n",
    "print(fit.s_ing(s_h, s_p, s_a))"
   ],
   "metadata": {
    "collapsed": false
   }
  },
  {
   "cell_type": "code",
   "execution_count": 12,
   "outputs": [],
   "source": [
    "first_act = test_tree.root.children[0]"
   ],
   "metadata": {
    "collapsed": false
   }
  },
  {
   "cell_type": "code",
   "execution_count": 20,
   "outputs": [
    {
     "name": "stdout",
     "output_type": "stream",
     "text": [
      "[1, 1, 0]\n"
     ]
    }
   ],
   "source": [
    "print(fit.valid_act(node3, node3.index, act_ing_mat, []))"
   ],
   "metadata": {
    "collapsed": false
   }
  },
  {
   "cell_type": "code",
   "execution_count": 22,
   "outputs": [
    {
     "data": {
      "text/plain": "[<node.Node at 0x12061e8f0>, <node.Node at 0x12061feb0>]"
     },
     "execution_count": 22,
     "metadata": {},
     "output_type": "execute_result"
    }
   ],
   "source": [
    "first_act.children[0].index\n",
    "node3.children"
   ],
   "metadata": {
    "collapsed": false
   }
  },
  {
   "cell_type": "code",
   "execution_count": 18,
   "outputs": [
    {
     "data": {
      "text/plain": "0.0"
     },
     "execution_count": 18,
     "metadata": {},
     "output_type": "execute_result"
    }
   ],
   "source": [
    "act_ing_mat[first_act.index, first_act.children[0].index]"
   ],
   "metadata": {
    "collapsed": false
   }
  },
  {
   "cell_type": "code",
   "execution_count": 15,
   "outputs": [
    {
     "data": {
      "text/plain": "(array([  0,   0,   0, ..., 109, 109, 109]),\n array([  13,   56,   67, ..., 6704, 6709, 6713]))"
     },
     "execution_count": 15,
     "metadata": {},
     "output_type": "execute_result"
    }
   ],
   "source": [
    "act_ing_mat.nonzero()"
   ],
   "metadata": {
    "collapsed": false
   }
  },
  {
   "cell_type": "code",
   "execution_count": 18,
   "outputs": [
    {
     "data": {
      "text/plain": "0.0"
     },
     "execution_count": 18,
     "metadata": {},
     "output_type": "execute_result"
    }
   ],
   "source": [
    "act_ing_mat[2,109]"
   ],
   "metadata": {
    "collapsed": false
   }
  },
  {
   "cell_type": "code",
   "execution_count": 37,
   "outputs": [],
   "source": [
    "s_i = [None]*len(node3.children)\n",
    "s_i = fit.s_mix_tuples(node3, s_i)"
   ],
   "metadata": {
    "collapsed": false
   }
  },
  {
   "cell_type": "code",
   "execution_count": 38,
   "outputs": [
    {
     "data": {
      "text/plain": "[[317, 4], [12]]"
     },
     "execution_count": 38,
     "metadata": {},
     "output_type": "execute_result"
    }
   ],
   "source": [
    "s_i"
   ],
   "metadata": {
    "collapsed": false
   }
  },
  {
   "cell_type": "code",
   "execution_count": 39,
   "outputs": [],
   "source": [
    "tups = fit.tuple_pairs(s_i)"
   ],
   "metadata": {
    "collapsed": false
   }
  },
  {
   "cell_type": "code",
   "execution_count": 40,
   "outputs": [
    {
     "data": {
      "text/plain": "(317, 12)"
     },
     "execution_count": 40,
     "metadata": {},
     "output_type": "execute_result"
    }
   ],
   "source": [
    "tups[0]"
   ],
   "metadata": {
    "collapsed": false
   }
  },
  {
   "cell_type": "code",
   "execution_count": 42,
   "outputs": [
    {
     "data": {
      "text/plain": "1.0"
     },
     "execution_count": 42,
     "metadata": {},
     "output_type": "execute_result"
    }
   ],
   "source": [
    "fit.s_mix(tups,ing_ing_mat)"
   ],
   "metadata": {
    "collapsed": false
   }
  },
  {
   "cell_type": "code",
   "execution_count": 11,
   "outputs": [
    {
     "data": {
      "text/plain": "(array([  12,   12,   12, ..., 6713, 6713, 6713]),\n array([  12,  317,  979, ..., 5423, 6219, 6713]))"
     },
     "execution_count": 11,
     "metadata": {},
     "output_type": "execute_result"
    }
   ],
   "source": [
    "ing_ing_mat.nonzero()"
   ],
   "metadata": {
    "collapsed": false
   }
  },
  {
   "cell_type": "code",
   "execution_count": 33,
   "outputs": [
    {
     "data": {
      "text/plain": "2.0"
     },
     "execution_count": 33,
     "metadata": {},
     "output_type": "execute_result"
    }
   ],
   "source": [
    "ing_ing_mat[12,317]"
   ],
   "metadata": {
    "collapsed": false
   }
  },
  {
   "cell_type": "code",
   "execution_count": null,
   "outputs": [],
   "source": [],
   "metadata": {
    "collapsed": false
   }
  }
 ],
 "metadata": {
  "kernelspec": {
   "display_name": "Python 3",
   "language": "python",
   "name": "python3"
  },
  "language_info": {
   "codemirror_mode": {
    "name": "ipython",
    "version": 2
   },
   "file_extension": ".py",
   "mimetype": "text/x-python",
   "name": "python",
   "nbconvert_exporter": "python",
   "pygments_lexer": "ipython2",
   "version": "2.7.6"
  }
 },
 "nbformat": 4,
 "nbformat_minor": 0
}
