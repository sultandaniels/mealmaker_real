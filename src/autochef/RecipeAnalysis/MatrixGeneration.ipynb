{
 "cells": [
  {
   "cell_type": "markdown",
   "metadata": {},
   "source": [
    "# Matrix Generation"
   ]
  },
  {
   "cell_type": "code",
   "execution_count": 1,
   "metadata": {},
   "outputs": [
    {
     "data": {
      "text/html": "        <script type=\"text/javascript\">\n        window.PlotlyConfig = {MathJaxConfig: 'local'};\n        if (window.MathJax && window.MathJax.Hub && window.MathJax.Hub.Config) {window.MathJax.Hub.Config({SVG: {font: \"STIX-Web\"}});}\n        if (typeof require !== 'undefined') {\n        require.undef(\"plotly\");\n        requirejs.config({\n            paths: {\n                'plotly': ['https://cdn.plot.ly/plotly-2.14.0.min']\n            }\n        });\n        require(['plotly'], function(Plotly) {\n            window._Plotly = Plotly;\n        });\n        }\n        </script>\n        "
     },
     "metadata": {},
     "output_type": "display_data"
    },
    {
     "name": "stderr",
     "output_type": "stream",
     "text": [
      "/var/folders/h_/wy6y3sfs1254rd40kbxmvsw00000gn/T/ipykernel_58449/602197836.py:13: TqdmExperimentalWarning:\n",
      "\n",
      "Using `tqdm.autonotebook.tqdm` in notebook mode. Use `tqdm.tqdm` instead to force console mode (e.g. in jupyter console)\n",
      "\n"
     ]
    }
   ],
   "source": [
    "import sys\n",
    "sys.path.append(\"../\")\n",
    "from Recipe import Recipe, Ingredient, RecipeGraph\n",
    "\n",
    "import settings\n",
    "import db.db_settings as db_settings\n",
    "from db.database_connection import DatabaseConnection\n",
    "\n",
    "import random\n",
    "\n",
    "import itertools\n",
    "\n",
    "from tqdm.autonotebook import tqdm\n",
    "\n",
    "import traceback\n",
    "\n",
    "import numpy as np"
   ]
  },
  {
   "cell_type": "code",
   "execution_count": 2,
   "metadata": {},
   "outputs": [
    {
     "name": "stderr",
     "output_type": "stream",
     "text": [
      "could not connect to database 'recipe_db' at root@172.17.0.2:3306\n",
      "Check the configuration in settings.py!\n"
     ]
    },
    {
     "ename": "Exception",
     "evalue": "could not connect to database",
     "output_type": "error",
     "traceback": [
      "\u001B[0;31m---------------------------------------------------------------------------\u001B[0m",
      "\u001B[0;31mTimeoutError\u001B[0m                              Traceback (most recent call last)",
      "File \u001B[0;32m~/Documents/ENGN1000/venv/lib/python3.10/site-packages/pymysql/connections.py:613\u001B[0m, in \u001B[0;36mConnection.connect\u001B[0;34m(self, sock)\u001B[0m\n\u001B[1;32m    612\u001B[0m \u001B[38;5;28;01mtry\u001B[39;00m:\n\u001B[0;32m--> 613\u001B[0m     sock \u001B[38;5;241m=\u001B[39m \u001B[43msocket\u001B[49m\u001B[38;5;241;43m.\u001B[39;49m\u001B[43mcreate_connection\u001B[49m\u001B[43m(\u001B[49m\n\u001B[1;32m    614\u001B[0m \u001B[43m        \u001B[49m\u001B[43m(\u001B[49m\u001B[38;5;28;43mself\u001B[39;49m\u001B[38;5;241;43m.\u001B[39;49m\u001B[43mhost\u001B[49m\u001B[43m,\u001B[49m\u001B[43m \u001B[49m\u001B[38;5;28;43mself\u001B[39;49m\u001B[38;5;241;43m.\u001B[39;49m\u001B[43mport\u001B[49m\u001B[43m)\u001B[49m\u001B[43m,\u001B[49m\u001B[43m \u001B[49m\u001B[38;5;28;43mself\u001B[39;49m\u001B[38;5;241;43m.\u001B[39;49m\u001B[43mconnect_timeout\u001B[49m\u001B[43m,\u001B[49m\u001B[43m \u001B[49m\u001B[38;5;241;43m*\u001B[39;49m\u001B[38;5;241;43m*\u001B[39;49m\u001B[43mkwargs\u001B[49m\n\u001B[1;32m    615\u001B[0m \u001B[43m    \u001B[49m\u001B[43m)\u001B[49m\n\u001B[1;32m    616\u001B[0m     \u001B[38;5;28;01mbreak\u001B[39;00m\n",
      "File \u001B[0;32m/Library/Frameworks/Python.framework/Versions/3.10/lib/python3.10/socket.py:845\u001B[0m, in \u001B[0;36mcreate_connection\u001B[0;34m(address, timeout, source_address)\u001B[0m\n\u001B[1;32m    844\u001B[0m \u001B[38;5;28;01mtry\u001B[39;00m:\n\u001B[0;32m--> 845\u001B[0m     \u001B[38;5;28;01mraise\u001B[39;00m err\n\u001B[1;32m    846\u001B[0m \u001B[38;5;28;01mfinally\u001B[39;00m:\n\u001B[1;32m    847\u001B[0m     \u001B[38;5;66;03m# Break explicitly a reference cycle\u001B[39;00m\n",
      "File \u001B[0;32m/Library/Frameworks/Python.framework/Versions/3.10/lib/python3.10/socket.py:833\u001B[0m, in \u001B[0;36mcreate_connection\u001B[0;34m(address, timeout, source_address)\u001B[0m\n\u001B[1;32m    832\u001B[0m     sock\u001B[38;5;241m.\u001B[39mbind(source_address)\n\u001B[0;32m--> 833\u001B[0m \u001B[43msock\u001B[49m\u001B[38;5;241;43m.\u001B[39;49m\u001B[43mconnect\u001B[49m\u001B[43m(\u001B[49m\u001B[43msa\u001B[49m\u001B[43m)\u001B[49m\n\u001B[1;32m    834\u001B[0m \u001B[38;5;66;03m# Break explicitly a reference cycle\u001B[39;00m\n",
      "\u001B[0;31mTimeoutError\u001B[0m: timed out",
      "\nDuring handling of the above exception, another exception occurred:\n",
      "\u001B[0;31mOperationalError\u001B[0m                          Traceback (most recent call last)",
      "File \u001B[0;32m~/Documents/ENGN1000/mealmaker/src/autochef/RecipeAnalysis/../db/database_connection.py:85\u001B[0m, in \u001B[0;36mDatabaseConnection.__init__\u001B[0;34m(self, host, port, user, password, db, charset)\u001B[0m\n\u001B[1;32m     84\u001B[0m \u001B[38;5;28;01mtry\u001B[39;00m:\n\u001B[0;32m---> 85\u001B[0m     \u001B[38;5;28mself\u001B[39m\u001B[38;5;241m.\u001B[39mconnection \u001B[38;5;241m=\u001B[39m \u001B[43mpymysql\u001B[49m\u001B[38;5;241;43m.\u001B[39;49m\u001B[43mconnect\u001B[49m\u001B[43m(\u001B[49m\n\u001B[1;32m     86\u001B[0m \u001B[43m        \u001B[49m\u001B[43mhost\u001B[49m\u001B[38;5;241;43m=\u001B[39;49m\u001B[43mhost\u001B[49m\u001B[43m,\u001B[49m\n\u001B[1;32m     87\u001B[0m \u001B[43m        \u001B[49m\u001B[43mport\u001B[49m\u001B[38;5;241;43m=\u001B[39;49m\u001B[43mport\u001B[49m\u001B[43m,\u001B[49m\n\u001B[1;32m     88\u001B[0m \u001B[43m        \u001B[49m\u001B[43muser\u001B[49m\u001B[38;5;241;43m=\u001B[39;49m\u001B[43muser\u001B[49m\u001B[43m,\u001B[49m\n\u001B[1;32m     89\u001B[0m \u001B[43m        \u001B[49m\u001B[43mpassword\u001B[49m\u001B[38;5;241;43m=\u001B[39;49m\u001B[43mpassword\u001B[49m\u001B[43m,\u001B[49m\n\u001B[1;32m     90\u001B[0m \u001B[43m        \u001B[49m\u001B[43mdb\u001B[49m\u001B[38;5;241;43m=\u001B[39;49m\u001B[43mdb\u001B[49m\u001B[43m,\u001B[49m\n\u001B[1;32m     91\u001B[0m \u001B[43m        \u001B[49m\u001B[43mcharset\u001B[49m\u001B[38;5;241;43m=\u001B[39;49m\u001B[43mcharset\u001B[49m\u001B[43m,\u001B[49m\n\u001B[1;32m     92\u001B[0m \u001B[43m        \u001B[49m\u001B[43mcursorclass\u001B[49m\u001B[38;5;241;43m=\u001B[39;49m\u001B[43mpymysql\u001B[49m\u001B[38;5;241;43m.\u001B[39;49m\u001B[43mcursors\u001B[49m\u001B[38;5;241;43m.\u001B[39;49m\u001B[43mDictCursor\u001B[49m\u001B[43m)\u001B[49m\n\u001B[1;32m     93\u001B[0m     DatabaseConnection\u001B[38;5;241m.\u001B[39minstance \u001B[38;5;241m=\u001B[39m \u001B[38;5;28mself\u001B[39m\n",
      "File \u001B[0;32m~/Documents/ENGN1000/venv/lib/python3.10/site-packages/pymysql/connections.py:353\u001B[0m, in \u001B[0;36mConnection.__init__\u001B[0;34m(self, user, password, host, database, unix_socket, port, charset, sql_mode, read_default_file, conv, use_unicode, client_flag, cursorclass, init_command, connect_timeout, read_default_group, autocommit, local_infile, max_allowed_packet, defer_connect, auth_plugin_map, read_timeout, write_timeout, bind_address, binary_prefix, program_name, server_public_key, ssl, ssl_ca, ssl_cert, ssl_disabled, ssl_key, ssl_verify_cert, ssl_verify_identity, compress, named_pipe, passwd, db)\u001B[0m\n\u001B[1;32m    352\u001B[0m \u001B[38;5;28;01melse\u001B[39;00m:\n\u001B[0;32m--> 353\u001B[0m     \u001B[38;5;28;43mself\u001B[39;49m\u001B[38;5;241;43m.\u001B[39;49m\u001B[43mconnect\u001B[49m\u001B[43m(\u001B[49m\u001B[43m)\u001B[49m\n",
      "File \u001B[0;32m~/Documents/ENGN1000/venv/lib/python3.10/site-packages/pymysql/connections.py:664\u001B[0m, in \u001B[0;36mConnection.connect\u001B[0;34m(self, sock)\u001B[0m\n\u001B[1;32m    663\u001B[0m         \u001B[38;5;28mprint\u001B[39m(exc\u001B[38;5;241m.\u001B[39mtraceback)\n\u001B[0;32m--> 664\u001B[0m     \u001B[38;5;28;01mraise\u001B[39;00m exc\n\u001B[1;32m    666\u001B[0m \u001B[38;5;66;03m# If e is neither DatabaseError or IOError, It's a bug.\u001B[39;00m\n\u001B[1;32m    667\u001B[0m \u001B[38;5;66;03m# But raising AssertionError hides original error.\u001B[39;00m\n\u001B[1;32m    668\u001B[0m \u001B[38;5;66;03m# So just reraise it.\u001B[39;00m\n",
      "\u001B[0;31mOperationalError\u001B[0m: (2003, \"Can't connect to MySQL server on '172.17.0.2' (timed out)\")",
      "\nDuring handling of the above exception, another exception occurred:\n",
      "\u001B[0;31mException\u001B[0m                                 Traceback (most recent call last)",
      "Cell \u001B[0;32mIn [2], line 1\u001B[0m\n\u001B[0;32m----> 1\u001B[0m \u001B[43mDatabaseConnection\u001B[49m\u001B[43m(\u001B[49m\u001B[43mdb_settings\u001B[49m\u001B[38;5;241;43m.\u001B[39;49m\u001B[43mdb_host\u001B[49m\u001B[43m,\u001B[49m\n\u001B[1;32m      2\u001B[0m \u001B[43m                   \u001B[49m\u001B[43mdb_settings\u001B[49m\u001B[38;5;241;43m.\u001B[39;49m\u001B[43mdb_port\u001B[49m\u001B[43m,\u001B[49m\n\u001B[1;32m      3\u001B[0m \u001B[43m                   \u001B[49m\u001B[43mdb_settings\u001B[49m\u001B[38;5;241;43m.\u001B[39;49m\u001B[43mdb_user\u001B[49m\u001B[43m,\u001B[49m\n\u001B[1;32m      4\u001B[0m \u001B[43m                   \u001B[49m\u001B[43mdb_settings\u001B[49m\u001B[38;5;241;43m.\u001B[39;49m\u001B[43mdb_pw\u001B[49m\u001B[43m,\u001B[49m\n\u001B[1;32m      5\u001B[0m \u001B[43m                   \u001B[49m\u001B[43mdb_settings\u001B[49m\u001B[38;5;241;43m.\u001B[39;49m\u001B[43mdb_db\u001B[49m\u001B[43m,\u001B[49m\n\u001B[1;32m      6\u001B[0m \u001B[43m                   \u001B[49m\u001B[43mdb_settings\u001B[49m\u001B[38;5;241;43m.\u001B[39;49m\u001B[43mdb_charset\u001B[49m\u001B[43m)\u001B[49m\n",
      "File \u001B[0;32m~/Documents/ENGN1000/mealmaker/src/autochef/RecipeAnalysis/../db/database_connection.py:104\u001B[0m, in \u001B[0;36mDatabaseConnection.__init__\u001B[0;34m(self, host, port, user, password, db, charset)\u001B[0m\n\u001B[1;32m     94\u001B[0m \u001B[38;5;28;01mexcept\u001B[39;00m \u001B[38;5;167;01mException\u001B[39;00m \u001B[38;5;28;01mas\u001B[39;00m e:\n\u001B[1;32m     95\u001B[0m     sys\u001B[38;5;241m.\u001B[39mstderr\u001B[38;5;241m.\u001B[39mwrite(\u001B[38;5;124m\"\u001B[39m\u001B[38;5;124mcould not connect to database \u001B[39m\u001B[38;5;124m'\u001B[39m\u001B[38;5;124m\"\u001B[39m \u001B[38;5;241m+\u001B[39m\n\u001B[1;32m     96\u001B[0m                      \u001B[38;5;28mstr\u001B[39m(db) \u001B[38;5;241m+\u001B[39m\n\u001B[1;32m     97\u001B[0m                      \u001B[38;5;124m\"\u001B[39m\u001B[38;5;124m'\u001B[39m\u001B[38;5;124m at \u001B[39m\u001B[38;5;124m\"\u001B[39m \u001B[38;5;241m+\u001B[39m\n\u001B[0;32m   (...)\u001B[0m\n\u001B[1;32m    102\u001B[0m                      \u001B[38;5;28mstr\u001B[39m(port) \u001B[38;5;241m+\u001B[39m\n\u001B[1;32m    103\u001B[0m                      \u001B[38;5;124m\"\u001B[39m\u001B[38;5;130;01m\\n\u001B[39;00m\u001B[38;5;124mCheck the configuration in settings.py!\u001B[39m\u001B[38;5;130;01m\\n\u001B[39;00m\u001B[38;5;124m\"\u001B[39m)\n\u001B[0;32m--> 104\u001B[0m     \u001B[38;5;28;01mraise\u001B[39;00m \u001B[38;5;167;01mException\u001B[39;00m(\u001B[38;5;124m'\u001B[39m\u001B[38;5;124mcould not connect to database\u001B[39m\u001B[38;5;124m'\u001B[39m)\n",
      "\u001B[0;31mException\u001B[0m: could not connect to database"
     ]
    }
   ],
   "source": [
    "DatabaseConnection(db_settings.db_host,\n",
    "                   db_settings.db_port,\n",
    "                   db_settings.db_user,\n",
    "                   db_settings.db_pw,\n",
    "                   db_settings.db_db,\n",
    "                   db_settings.db_charset)"
   ]
  },
  {
   "cell_type": "code",
   "execution_count": 3,
   "metadata": {},
   "outputs": [
    {
     "name": "stdout",
     "output_type": "stream",
     "text": [
      "CPU times: user 8.52 s, sys: 719 ms, total: 9.24 s\n",
      "Wall time: 9.4 s\n"
     ]
    }
   ],
   "source": [
    "%time ids = DatabaseConnection.global_single_query(\"select id from recipes\")"
   ]
  },
  {
   "cell_type": "code",
   "execution_count": 4,
   "metadata": {},
   "outputs": [],
   "source": [
    "import AdjacencyMatrix"
   ]
  },
  {
   "cell_type": "markdown",
   "metadata": {},
   "source": [
    "* create Adjacency Matrix"
   ]
  },
  {
   "cell_type": "code",
   "execution_count": 5,
   "metadata": {},
   "outputs": [],
   "source": [
    "def add_entries_from_rec_state(rec_state, m_act, m_mix, m_base_act, m_base_mix):\n",
    "    mix_m, mix_label = rec_state.get_mixing_matrix()\n",
    "    act_m, act_a, act_i = rec_state.get_action_matrix()\n",
    "\n",
    "    # create list of tuples: [action, ingredient]\n",
    "    seen_actions = np.array(list(itertools.product(act_a,act_i))).reshape((len(act_a), len(act_i), 2))\n",
    "\n",
    "    # create list of tuples [ingredient, ingredient]\n",
    "    seen_mixes = np.array(list(itertools.product(mix_label,mix_label))).reshape((len(mix_label), len(mix_label), 2))\n",
    "\n",
    "    seen_actions = seen_actions[act_m == 1]\n",
    "    seen_mixes = seen_mixes[mix_m == 1]\n",
    "\n",
    "    seen_actions = set([tuple(x) for x in seen_actions.tolist()])\n",
    "    seen_mixes = set([tuple(x) for x in seen_mixes.tolist()])\n",
    "    \n",
    "    seen_base_actions = set()\n",
    "    seen_base_mixes = set()\n",
    "    \n",
    "    for act, ing in seen_actions:\n",
    "        m_act.add_entry(act, ing.to_json(), 1)\n",
    "        if (act, ing._base_ingredient) not in seen_base_actions:\n",
    "            seen_base_actions.add((act, ing._base_ingredient))\n",
    "            m_base_act.add_entry(act, ing._base_ingredient, 1)\n",
    "    \n",
    "    for x,y in seen_mixes:\n",
    "        xj = x.to_json()\n",
    "        yj = y.to_json()\n",
    "        if xj < yj:\n",
    "            m_mix.add_entry(xj,yj,1)\n",
    "            if (x._base_ingredient, y._base_ingredient) not in seen_base_mixes:\n",
    "                seen_base_mixes.add((x._base_ingredient, y._base_ingredient))\n",
    "                m_base_mix.add_entry(x._base_ingredient, y._base_ingredient, 1)\n"
   ]
  },
  {
   "cell_type": "code",
   "execution_count": 6,
   "metadata": {},
   "outputs": [],
   "source": [
    "m_act = AdjacencyMatrix.adj_matrix()\n",
    "m_mix = AdjacencyMatrix.adj_matrix(True)\n",
    "m_base_act = AdjacencyMatrix.adj_matrix()\n",
    "m_base_mix = AdjacencyMatrix.adj_matrix(True)"
   ]
  },
  {
   "cell_type": "code",
   "execution_count": 7,
   "metadata": {},
   "outputs": [
    {
     "data": {
      "application/vnd.jupyter.widget-view+json": {
       "model_id": "fa6557a61875425495f90a61f88115af",
       "version_major": 2,
       "version_minor": 0
      },
      "text/plain": [
       "HBox(children=(FloatProgress(value=0.0, max=100000.0), HTML(value='')))"
      ]
     },
     "metadata": {},
     "output_type": "display_data"
    },
    {
     "name": "stdout",
     "output_type": "stream",
     "text": [
      "warning: recipe 8be34a1b83 has no ingredient! skipping it\n",
      "warning: recipe 5f02077e4c has no ingredient! skipping it\n",
      "warning: recipe e5c317b3f1 has no ingredient! skipping it\n",
      "warning: recipe 56016a1985 has no ingredient! skipping it\n",
      "warning: recipe eb77bd6edc has no ingredient! skipping it\n",
      "warning: recipe 5ce8c2cedd has no ingredient! skipping it\n",
      "warning: recipe d7a9aaba3a has no ingredient! skipping it\n",
      "warning: recipe 5d99d73716 has no ingredient! skipping it\n",
      "warning: recipe 5a8462b13f has no ingredient! skipping it\n",
      "an error occured : 'NoneType' object has no attribute 'lower'\n"
     ]
    },
    {
     "name": "stderr",
     "output_type": "stream",
     "text": [
      "Traceback (most recent call last):\n",
      "  File \"<timed exec>\", line 4, in <module>\n",
      "  File \"/home/jonas/Dokumente/gitRepos/master_thesis/RecipeAnalysis/Recipe.py\", line 888, in __init__\n",
      "    self.annotate_sentences()\n",
      "  File \"/home/jonas/Dokumente/gitRepos/master_thesis/RecipeAnalysis/Recipe.py\", line 981, in annotate_sentences\n",
      "    self._annotate_sentences(self._sentences, self.predict_labels())\n",
      "  File \"/home/jonas/Dokumente/gitRepos/master_thesis/RecipeAnalysis/Recipe.py\", line 933, in predict_labels\n",
      "    features = [sent2features(sent) for sent in self._sentences]\n",
      "  File \"/home/jonas/Dokumente/gitRepos/master_thesis/RecipeAnalysis/Recipe.py\", line 933, in <listcomp>\n",
      "    features = [sent2features(sent) for sent in self._sentences]\n",
      "  File \"../Tagging/crf_data_generator.py\", line 87, in sent2features\n",
      "    return [word2features(sent, i) for i in range(len(sent))]\n",
      "  File \"../Tagging/crf_data_generator.py\", line 87, in <listcomp>\n",
      "    return [word2features(sent, i) for i in range(len(sent))]\n",
      "  File \"../Tagging/crf_data_generator.py\", line 54, in word2features\n",
      "    '+1:word.lower=' + word1.lower(),\n",
      "AttributeError: 'NoneType' object has no attribute 'lower'\n"
     ]
    },
    {
     "name": "stdout",
     "output_type": "stream",
     "text": [
      "warning: recipe 99ab771181 has no ingredient! skipping it\n",
      "warning: recipe de79b67e1a has no ingredient! skipping it\n",
      "warning: recipe ebc64e182c has no ingredient! skipping it\n",
      "warning: recipe 7358870155 has no ingredient! skipping it\n",
      "warning: recipe 3e06b9bc57 has no ingredient! skipping it\n",
      "warning: recipe 7c67cd9da7 has no ingredient! skipping it\n",
      "warning: recipe 1e5911a066 has no ingredient! skipping it\n",
      "an error occured : 'NoneType' object is not subscriptable\n"
     ]
    },
    {
     "name": "stderr",
     "output_type": "stream",
     "text": [
      "Traceback (most recent call last):\n",
      "  File \"<timed exec>\", line 4, in <module>\n",
      "  File \"/home/jonas/Dokumente/gitRepos/master_thesis/RecipeAnalysis/Recipe.py\", line 888, in __init__\n",
      "    self.annotate_sentences()\n",
      "  File \"/home/jonas/Dokumente/gitRepos/master_thesis/RecipeAnalysis/Recipe.py\", line 981, in annotate_sentences\n",
      "    self._annotate_sentences(self._sentences, self.predict_labels())\n",
      "  File \"/home/jonas/Dokumente/gitRepos/master_thesis/RecipeAnalysis/Recipe.py\", line 933, in predict_labels\n",
      "    features = [sent2features(sent) for sent in self._sentences]\n",
      "  File \"/home/jonas/Dokumente/gitRepos/master_thesis/RecipeAnalysis/Recipe.py\", line 933, in <listcomp>\n",
      "    features = [sent2features(sent) for sent in self._sentences]\n",
      "  File \"../Tagging/crf_data_generator.py\", line 87, in sent2features\n",
      "    return [word2features(sent, i) for i in range(len(sent))]\n",
      "  File \"../Tagging/crf_data_generator.py\", line 87, in <listcomp>\n",
      "    return [word2features(sent, i) for i in range(len(sent))]\n",
      "  File \"../Tagging/crf_data_generator.py\", line 19, in word2features\n",
      "    'word[-3:]=' + word[-3:],\n",
      "TypeError: 'NoneType' object is not subscriptable\n"
     ]
    },
    {
     "name": "stdout",
     "output_type": "stream",
     "text": [
      "warning: recipe 56016a1985 has no ingredient! skipping it\n",
      "warning: recipe 1d14e148c9 has no ingredient! skipping it\n",
      "warning: recipe f96375e11c has no ingredient! skipping it\n",
      "warning: recipe 026e9af79d has no ingredient! skipping it\n",
      "warning: recipe c884f5d8a0 has no ingredient! skipping it\n",
      "warning: recipe 76b02fee35 has no ingredient! skipping it\n",
      "an error occured : 'NoneType' object has no attribute 'lower'\n"
     ]
    },
    {
     "name": "stderr",
     "output_type": "stream",
     "text": [
      "Traceback (most recent call last):\n",
      "  File \"<timed exec>\", line 4, in <module>\n",
      "  File \"/home/jonas/Dokumente/gitRepos/master_thesis/RecipeAnalysis/Recipe.py\", line 888, in __init__\n",
      "    self.annotate_sentences()\n",
      "  File \"/home/jonas/Dokumente/gitRepos/master_thesis/RecipeAnalysis/Recipe.py\", line 981, in annotate_sentences\n",
      "    self._annotate_sentences(self._sentences, self.predict_labels())\n",
      "  File \"/home/jonas/Dokumente/gitRepos/master_thesis/RecipeAnalysis/Recipe.py\", line 933, in predict_labels\n",
      "    features = [sent2features(sent) for sent in self._sentences]\n",
      "  File \"/home/jonas/Dokumente/gitRepos/master_thesis/RecipeAnalysis/Recipe.py\", line 933, in <listcomp>\n",
      "    features = [sent2features(sent) for sent in self._sentences]\n",
      "  File \"../Tagging/crf_data_generator.py\", line 87, in sent2features\n",
      "    return [word2features(sent, i) for i in range(len(sent))]\n",
      "  File \"../Tagging/crf_data_generator.py\", line 87, in <listcomp>\n",
      "    return [word2features(sent, i) for i in range(len(sent))]\n",
      "  File \"../Tagging/crf_data_generator.py\", line 54, in word2features\n",
      "    '+1:word.lower=' + word1.lower(),\n",
      "AttributeError: 'NoneType' object has no attribute 'lower'\n"
     ]
    },
    {
     "name": "stdout",
     "output_type": "stream",
     "text": [
      "warning: recipe 2fa5b920f4 has no ingredient! skipping it\n",
      "\n",
      "CPU times: user 2h 2min 39s, sys: 43.4 s, total: 2h 3min 23s\n",
      "Wall time: 2h 4min 37s\n"
     ]
    }
   ],
   "source": [
    "%%time\n",
    "for i in tqdm(range(100000)):\n",
    "    try:\n",
    "        id = random.choice(ids)['id']\n",
    "        rec = Recipe(id)\n",
    "        #rec.display_recipe()\n",
    "        ing = rec.extract_ingredients()\n",
    "        if len(ing) == 0:\n",
    "            print(f\"warning: recipe {id} has no ingredient! skipping it\")\n",
    "            continue\n",
    "        rec.apply_instructions(debug=False)\n",
    "        add_entries_from_rec_state(rec._recipe_state, m_act, m_mix, m_base_act, m_base_mix)\n",
    "    except Exception as e:\n",
    "        print(\"an error occured : \" + str(e))\n",
    "        traceback.print_exc()"
   ]
  },
  {
   "cell_type": "code",
   "execution_count": 10,
   "metadata": {},
   "outputs": [
    {
     "data": {
      "text/plain": [
       "99999"
      ]
     },
     "execution_count": 10,
     "metadata": {},
     "output_type": "execute_result"
    }
   ],
   "source": [
    "i"
   ]
  },
  {
   "cell_type": "code",
   "execution_count": 11,
   "metadata": {},
   "outputs": [],
   "source": [
    "import dill"
   ]
  },
  {
   "cell_type": "code",
   "execution_count": null,
   "metadata": {},
   "outputs": [],
   "source": []
  },
  {
   "cell_type": "code",
   "execution_count": 12,
   "metadata": {},
   "outputs": [],
   "source": [
    "dill.dump(m_act, file=open(\"m_act_raw.dill\", 'wb'))\n",
    "dill.dump(m_mix, file=open(\"m_mix_raw.dill\", 'wb'))\n",
    "dill.dump(m_base_act, file=open(\"m_base_act_raw.dill\", 'wb'))\n",
    "dill.dump(m_base_mix, file=open(\"m_base_mix_raw.dill\", 'wb'))"
   ]
  },
  {
   "cell_type": "code",
   "execution_count": 13,
   "metadata": {},
   "outputs": [],
   "source": [
    "m_act.apply_threshold(10)\n",
    "m_mix.apply_threshold(10)\n",
    "m_base_act.apply_threshold(20)\n",
    "m_base_mix.apply_threshold(20)"
   ]
  },
  {
   "cell_type": "code",
   "execution_count": 14,
   "metadata": {},
   "outputs": [],
   "source": [
    "c_mix = m_mix.get_csr()\n",
    "c_act = m_act.get_csr()\n",
    "c_base_mix = m_base_mix.get_csr()\n",
    "c_base_act = m_base_act.get_csr()"
   ]
  },
  {
   "cell_type": "code",
   "execution_count": 15,
   "metadata": {},
   "outputs": [],
   "source": [
    "m_mix.compile()\n",
    "m_act.compile()\n",
    "m_base_mix.compile()\n",
    "m_base_act.compile()\n"
   ]
  },
  {
   "cell_type": "code",
   "execution_count": null,
   "metadata": {},
   "outputs": [],
   "source": []
  },
  {
   "cell_type": "code",
   "execution_count": 16,
   "metadata": {},
   "outputs": [],
   "source": [
    "dill.dump(m_act, file=open(\"m_act.dill\", 'wb'))\n",
    "dill.dump(m_mix, file=open(\"m_mix.dill\", 'wb'))\n",
    "dill.dump(m_base_act, file=open(\"m_base_act.dill\", 'wb'))\n",
    "dill.dump(m_base_mix, file=open(\"m_base_mix.dill\", 'wb'))"
   ]
  },
  {
   "cell_type": "code",
   "execution_count": 17,
   "metadata": {},
   "outputs": [
    {
     "name": "stdout",
     "output_type": "stream",
     "text": [
      "(64, 237792) (266772, 266772)\n",
      "13170 17041\n",
      "(64, 11455) (13528, 13528)\n",
      "6083 10775\n"
     ]
    }
   ],
   "source": [
    "print(c_act.shape, c_mix.shape)\n",
    "print(len(c_act.nonzero()[0]),len(c_mix.nonzero()[0]))\n",
    "print(c_base_act.shape, c_base_mix.shape)\n",
    "print(len(c_base_act.nonzero()[0]),len(c_base_mix.nonzero()[0]))"
   ]
  },
  {
   "cell_type": "code",
   "execution_count": 18,
   "metadata": {},
   "outputs": [
    {
     "name": "stdout",
     "output_type": "stream",
     "text": [
      "(64, 237792) (266772, 266772)\n",
      "13170 17041\n"
     ]
    }
   ],
   "source": [
    "print(c_act.shape, c_mix.shape)\n",
    "print(len(c_act.nonzero()[0]),len(c_mix.nonzero()[0]))"
   ]
  },
  {
   "cell_type": "code",
   "execution_count": 19,
   "metadata": {},
   "outputs": [
    {
     "data": {
      "text/plain": [
       "13170"
      ]
     },
     "execution_count": 19,
     "metadata": {},
     "output_type": "execute_result"
    }
   ],
   "source": [
    "np.sum(c_act.toarray() > 1)"
   ]
  },
  {
   "cell_type": "code",
   "execution_count": null,
   "metadata": {},
   "outputs": [],
   "source": []
  },
  {
   "cell_type": "markdown",
   "metadata": {},
   "source": [
    "* values after 100:\n",
    "```\n",
    "(53, 1498) (1620, 1620)\n",
    "1982 6489\n",
    "```\n",
    "\n",
    "* after 1000:\n",
    "```\n",
    "(60, 9855) (10946, 10946)\n",
    "15446 59943\n",
    "```\n",
    "\n",
    "* after 10000:\n",
    "```\n",
    "(65, 65235) (72448, 72448)\n",
    "114808 546217\n",
    "```"
   ]
  },
  {
   "cell_type": "code",
   "execution_count": null,
   "metadata": {},
   "outputs": [],
   "source": []
  }
 ],
 "metadata": {
  "file_extension": ".py",
  "kernelspec": {
   "display_name": "Python 3",
   "language": "python",
   "name": "python3"
  },
  "language_info": {
   "codemirror_mode": {
    "name": "ipython",
    "version": 3
   },
   "file_extension": ".py",
   "mimetype": "text/x-python",
   "name": "python",
   "nbconvert_exporter": "python",
   "pygments_lexer": "ipython3",
   "version": "3.7.5"
  },
  "mimetype": "text/x-python",
  "name": "python",
  "npconvert_exporter": "python",
  "pygments_lexer": "ipython3",
  "version": 3
 },
 "nbformat": 4,
 "nbformat_minor": 4
}
