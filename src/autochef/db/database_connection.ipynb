{
 "cells": [
  {
   "cell_type": "code",
   "execution_count": 24,
   "metadata": {},
   "outputs": [],
   "source": [
    "import pymysql.cursors\n",
    "import sys\n",
    "\n",
    "\n",
    "def get_sql_time(datetime_object):\n",
    "    return datetime_object.strftime('%Y-%m-%d %H:%M:%S')\n",
    "\n",
    "\n",
    "class SQLInjectionError(Exception):\n",
    "    def __init__(self):\n",
    "\n",
    "        # Call the base class constructor with the parameters it needs\n",
    "        super().__init__(\"Detected possible SQL injection attack!\")\n",
    "\n",
    "\n",
    "class DatabaseConnection(object):\n",
    "    \"\"\"\n",
    "    a singleton class for a global database connection\n",
    "    \"\"\"\n",
    "\n",
    "    instance = None\n",
    "\n",
    "    @staticmethod\n",
    "    def global_cursor():\n",
    "        assert DatabaseConnection.instance is not None\n",
    "        return DatabaseConnection.instance.get_cursor()\n",
    "\n",
    "    @staticmethod\n",
    "    def global_close():\n",
    "        assert DatabaseConnection.instance is not None\n",
    "        DatabaseConnection.instance.close()\n",
    "\n",
    "    @staticmethod\n",
    "    def global_commit():\n",
    "        assert DatabaseConnection.instance is not None\n",
    "        DatabaseConnection.instance.commit()\n",
    "\n",
    "    @staticmethod\n",
    "    def global_ping():\n",
    "        assert DatabaseConnection.instance is not None\n",
    "        DatabaseConnection.instance.connection.ping()\n",
    "\n",
    "    @staticmethod\n",
    "    def global_single_query(query, params=None):\n",
    "        DatabaseConnection.global_ping()\n",
    "        if ';' in query:\n",
    "            # Possible injection!\n",
    "            raise SQLInjectionError()\n",
    "\n",
    "        with DatabaseConnection.global_cursor() as c:\n",
    "            if params is None:\n",
    "                c.execute(query)\n",
    "            else:\n",
    "                c.execute(query, params)\n",
    "\n",
    "            return c.fetchall()\n",
    "\n",
    "    @staticmethod\n",
    "    def global_single_execution(sql_statement, params=None):\n",
    "        DatabaseConnection.global_ping()\n",
    "        if ';' in sql_statement:\n",
    "            # Possible injection detected!\n",
    "            raise SQLInjectionError()\n",
    "\n",
    "        with DatabaseConnection.global_cursor() as c:\n",
    "            if params is None:\n",
    "                c.execute(sql_statement)\n",
    "            else:\n",
    "                c.execute(sql_statement, params)\n",
    "            DatabaseConnection.global_commit()\n",
    "\n",
    "    def __init__(self,\n",
    "                 host: str,\n",
    "                 port: int,\n",
    "                 user: str,\n",
    "                 password: str,\n",
    "                 database: str,\n",
    "                 charset: str):\n",
    "\n",
    "        assert DatabaseConnection.instance is None\n",
    "        try:\n",
    "            cursor = pymysql.cursors.DictCursor\n",
    "            self.connection = pymysql.connect(\n",
    "                host=host,\n",
    "                port=port,\n",
    "                user=user,\n",
    "                password=password,\n",
    "                database=database,\n",
    "                charset=charset,\n",
    "                cursorclass=cursor)\n",
    "            DatabaseConnection.instance = self\n",
    "        except Exception as e:\n",
    "            # print(\"Error code:\", e.errno)        # error number\n",
    "            # print(\"SQLInjectionErrorQLSTATE value:\", e.sqlstate) # SQLSTATE value\n",
    "            # print(\"Error message:\", e.msg)      # error message\n",
    "            # print(\"Error:\", e)                # errno, sqlstate, msg values\n",
    "            s = str(e)\n",
    "            print(\"Error:\", s)                 # errno, sqlstate, msg values\n",
    "            sys.stderr.write(\"could not connect to database '\" +\n",
    "                             str(database) +\n",
    "                             \"' at \" +\n",
    "                             user +\n",
    "                             \"@\" +\n",
    "                             host +\n",
    "                             \":\" +\n",
    "                             str(port) +\n",
    "                             \"\\nCheck the configuration in settings.py!\\n\")\n",
    "            raise Exception('could not connect to database')\n",
    "\n",
    "    def get_cursor(self):\n",
    "        return self.connection.cursor()\n",
    "\n",
    "    def close(self):\n",
    "        self.connection.close()\n",
    "        DatabaseConnection.instance = None\n",
    "\n",
    "    def commit(self):\n",
    "        self.connection.commit()\n",
    "\n",
    "\n",
    "def test_connection():\n",
    "    import db_settings as settings\n",
    "    DatabaseConnection(settings.db_host,\n",
    "                       settings.db_port,\n",
    "                       settings.db_user,\n",
    "                       settings.db_pw,\n",
    "                       settings.db_db,\n",
    "                       settings.db_charset)"
   ]
  },
  {
   "cell_type": "code",
   "execution_count": 25,
   "metadata": {},
   "outputs": [
    {
     "name": "stdout",
     "output_type": "stream",
     "text": [
      "Error: (2003, \"Can't connect to MySQL server on '172.17.0.2' (timed out)\")\n"
     ]
    },
    {
     "name": "stderr",
     "output_type": "stream",
     "text": [
      "could not connect to database 'recipe_db' at root@172.17.0.2:3306\n",
      "Check the configuration in settings.py!\n"
     ]
    },
    {
     "ename": "Exception",
     "evalue": "could not connect to database",
     "output_type": "error",
     "traceback": [
      "\u001B[0;31m---------------------------------------------------------------------------\u001B[0m",
      "\u001B[0;31mTimeoutError\u001B[0m                              Traceback (most recent call last)",
      "File \u001B[0;32m~/Documents/ENGN1000/venv/lib/python3.10/site-packages/pymysql/connections.py:613\u001B[0m, in \u001B[0;36mConnection.connect\u001B[0;34m(self, sock)\u001B[0m\n\u001B[1;32m    612\u001B[0m \u001B[38;5;28;01mtry\u001B[39;00m:\n\u001B[0;32m--> 613\u001B[0m     sock \u001B[38;5;241m=\u001B[39m \u001B[43msocket\u001B[49m\u001B[38;5;241;43m.\u001B[39;49m\u001B[43mcreate_connection\u001B[49m\u001B[43m(\u001B[49m\n\u001B[1;32m    614\u001B[0m \u001B[43m        \u001B[49m\u001B[43m(\u001B[49m\u001B[38;5;28;43mself\u001B[39;49m\u001B[38;5;241;43m.\u001B[39;49m\u001B[43mhost\u001B[49m\u001B[43m,\u001B[49m\u001B[43m \u001B[49m\u001B[38;5;28;43mself\u001B[39;49m\u001B[38;5;241;43m.\u001B[39;49m\u001B[43mport\u001B[49m\u001B[43m)\u001B[49m\u001B[43m,\u001B[49m\u001B[43m \u001B[49m\u001B[38;5;28;43mself\u001B[39;49m\u001B[38;5;241;43m.\u001B[39;49m\u001B[43mconnect_timeout\u001B[49m\u001B[43m,\u001B[49m\u001B[43m \u001B[49m\u001B[38;5;241;43m*\u001B[39;49m\u001B[38;5;241;43m*\u001B[39;49m\u001B[43mkwargs\u001B[49m\n\u001B[1;32m    615\u001B[0m \u001B[43m    \u001B[49m\u001B[43m)\u001B[49m\n\u001B[1;32m    616\u001B[0m     \u001B[38;5;28;01mbreak\u001B[39;00m\n",
      "File \u001B[0;32m/Library/Frameworks/Python.framework/Versions/3.10/lib/python3.10/socket.py:845\u001B[0m, in \u001B[0;36mcreate_connection\u001B[0;34m(address, timeout, source_address)\u001B[0m\n\u001B[1;32m    844\u001B[0m \u001B[38;5;28;01mtry\u001B[39;00m:\n\u001B[0;32m--> 845\u001B[0m     \u001B[38;5;28;01mraise\u001B[39;00m err\n\u001B[1;32m    846\u001B[0m \u001B[38;5;28;01mfinally\u001B[39;00m:\n\u001B[1;32m    847\u001B[0m     \u001B[38;5;66;03m# Break explicitly a reference cycle\u001B[39;00m\n",
      "File \u001B[0;32m/Library/Frameworks/Python.framework/Versions/3.10/lib/python3.10/socket.py:833\u001B[0m, in \u001B[0;36mcreate_connection\u001B[0;34m(address, timeout, source_address)\u001B[0m\n\u001B[1;32m    832\u001B[0m     sock\u001B[38;5;241m.\u001B[39mbind(source_address)\n\u001B[0;32m--> 833\u001B[0m \u001B[43msock\u001B[49m\u001B[38;5;241;43m.\u001B[39;49m\u001B[43mconnect\u001B[49m\u001B[43m(\u001B[49m\u001B[43msa\u001B[49m\u001B[43m)\u001B[49m\n\u001B[1;32m    834\u001B[0m \u001B[38;5;66;03m# Break explicitly a reference cycle\u001B[39;00m\n",
      "\u001B[0;31mTimeoutError\u001B[0m: timed out",
      "\nDuring handling of the above exception, another exception occurred:\n",
      "\u001B[0;31mOperationalError\u001B[0m                          Traceback (most recent call last)",
      "Cell \u001B[0;32mIn [24], line 83\u001B[0m, in \u001B[0;36mDatabaseConnection.__init__\u001B[0;34m(self, host, port, user, password, database, charset)\u001B[0m\n\u001B[1;32m     82\u001B[0m cursor \u001B[38;5;241m=\u001B[39m pymysql\u001B[38;5;241m.\u001B[39mcursors\u001B[38;5;241m.\u001B[39mDictCursor\n\u001B[0;32m---> 83\u001B[0m \u001B[38;5;28mself\u001B[39m\u001B[38;5;241m.\u001B[39mconnection \u001B[38;5;241m=\u001B[39m \u001B[43mpymysql\u001B[49m\u001B[38;5;241;43m.\u001B[39;49m\u001B[43mconnect\u001B[49m\u001B[43m(\u001B[49m\n\u001B[1;32m     84\u001B[0m \u001B[43m    \u001B[49m\u001B[43mhost\u001B[49m\u001B[38;5;241;43m=\u001B[39;49m\u001B[43mhost\u001B[49m\u001B[43m,\u001B[49m\n\u001B[1;32m     85\u001B[0m \u001B[43m    \u001B[49m\u001B[43mport\u001B[49m\u001B[38;5;241;43m=\u001B[39;49m\u001B[43mport\u001B[49m\u001B[43m,\u001B[49m\n\u001B[1;32m     86\u001B[0m \u001B[43m    \u001B[49m\u001B[43muser\u001B[49m\u001B[38;5;241;43m=\u001B[39;49m\u001B[43muser\u001B[49m\u001B[43m,\u001B[49m\n\u001B[1;32m     87\u001B[0m \u001B[43m    \u001B[49m\u001B[43mpassword\u001B[49m\u001B[38;5;241;43m=\u001B[39;49m\u001B[43mpassword\u001B[49m\u001B[43m,\u001B[49m\n\u001B[1;32m     88\u001B[0m \u001B[43m    \u001B[49m\u001B[43mdatabase\u001B[49m\u001B[38;5;241;43m=\u001B[39;49m\u001B[43mdatabase\u001B[49m\u001B[43m,\u001B[49m\n\u001B[1;32m     89\u001B[0m \u001B[43m    \u001B[49m\u001B[43mcharset\u001B[49m\u001B[38;5;241;43m=\u001B[39;49m\u001B[43mcharset\u001B[49m\u001B[43m,\u001B[49m\n\u001B[1;32m     90\u001B[0m \u001B[43m    \u001B[49m\u001B[43mcursorclass\u001B[49m\u001B[38;5;241;43m=\u001B[39;49m\u001B[43mcursor\u001B[49m\u001B[43m)\u001B[49m\n\u001B[1;32m     91\u001B[0m DatabaseConnection\u001B[38;5;241m.\u001B[39minstance \u001B[38;5;241m=\u001B[39m \u001B[38;5;28mself\u001B[39m\n",
      "File \u001B[0;32m~/Documents/ENGN1000/venv/lib/python3.10/site-packages/pymysql/connections.py:353\u001B[0m, in \u001B[0;36mConnection.__init__\u001B[0;34m(self, user, password, host, database, unix_socket, port, charset, sql_mode, read_default_file, conv, use_unicode, client_flag, cursorclass, init_command, connect_timeout, read_default_group, autocommit, local_infile, max_allowed_packet, defer_connect, auth_plugin_map, read_timeout, write_timeout, bind_address, binary_prefix, program_name, server_public_key, ssl, ssl_ca, ssl_cert, ssl_disabled, ssl_key, ssl_verify_cert, ssl_verify_identity, compress, named_pipe, passwd, db)\u001B[0m\n\u001B[1;32m    352\u001B[0m \u001B[38;5;28;01melse\u001B[39;00m:\n\u001B[0;32m--> 353\u001B[0m     \u001B[38;5;28;43mself\u001B[39;49m\u001B[38;5;241;43m.\u001B[39;49m\u001B[43mconnect\u001B[49m\u001B[43m(\u001B[49m\u001B[43m)\u001B[49m\n",
      "File \u001B[0;32m~/Documents/ENGN1000/venv/lib/python3.10/site-packages/pymysql/connections.py:664\u001B[0m, in \u001B[0;36mConnection.connect\u001B[0;34m(self, sock)\u001B[0m\n\u001B[1;32m    663\u001B[0m         \u001B[38;5;28mprint\u001B[39m(exc\u001B[38;5;241m.\u001B[39mtraceback)\n\u001B[0;32m--> 664\u001B[0m     \u001B[38;5;28;01mraise\u001B[39;00m exc\n\u001B[1;32m    666\u001B[0m \u001B[38;5;66;03m# If e is neither DatabaseError or IOError, It's a bug.\u001B[39;00m\n\u001B[1;32m    667\u001B[0m \u001B[38;5;66;03m# But raising AssertionError hides original error.\u001B[39;00m\n\u001B[1;32m    668\u001B[0m \u001B[38;5;66;03m# So just reraise it.\u001B[39;00m\n",
      "\u001B[0;31mOperationalError\u001B[0m: (2003, \"Can't connect to MySQL server on '172.17.0.2' (timed out)\")",
      "\nDuring handling of the above exception, another exception occurred:\n",
      "\u001B[0;31mException\u001B[0m                                 Traceback (most recent call last)",
      "Cell \u001B[0;32mIn [25], line 1\u001B[0m\n\u001B[0;32m----> 1\u001B[0m \u001B[43mtest_connection\u001B[49m\u001B[43m(\u001B[49m\u001B[43m)\u001B[49m\n",
      "Cell \u001B[0;32mIn [24], line 123\u001B[0m, in \u001B[0;36mtest_connection\u001B[0;34m()\u001B[0m\n\u001B[1;32m    121\u001B[0m \u001B[38;5;28;01mdef\u001B[39;00m \u001B[38;5;21mtest_connection\u001B[39m():\n\u001B[1;32m    122\u001B[0m     \u001B[38;5;28;01mimport\u001B[39;00m \u001B[38;5;21;01mdb_settings\u001B[39;00m \u001B[38;5;28;01mas\u001B[39;00m \u001B[38;5;21;01msettings\u001B[39;00m\n\u001B[0;32m--> 123\u001B[0m     \u001B[43mDatabaseConnection\u001B[49m\u001B[43m(\u001B[49m\u001B[43msettings\u001B[49m\u001B[38;5;241;43m.\u001B[39;49m\u001B[43mdb_host\u001B[49m\u001B[43m,\u001B[49m\n\u001B[1;32m    124\u001B[0m \u001B[43m                       \u001B[49m\u001B[43msettings\u001B[49m\u001B[38;5;241;43m.\u001B[39;49m\u001B[43mdb_port\u001B[49m\u001B[43m,\u001B[49m\n\u001B[1;32m    125\u001B[0m \u001B[43m                       \u001B[49m\u001B[43msettings\u001B[49m\u001B[38;5;241;43m.\u001B[39;49m\u001B[43mdb_user\u001B[49m\u001B[43m,\u001B[49m\n\u001B[1;32m    126\u001B[0m \u001B[43m                       \u001B[49m\u001B[43msettings\u001B[49m\u001B[38;5;241;43m.\u001B[39;49m\u001B[43mdb_pw\u001B[49m\u001B[43m,\u001B[49m\n\u001B[1;32m    127\u001B[0m \u001B[43m                       \u001B[49m\u001B[43msettings\u001B[49m\u001B[38;5;241;43m.\u001B[39;49m\u001B[43mdb_db\u001B[49m\u001B[43m,\u001B[49m\n\u001B[1;32m    128\u001B[0m \u001B[43m                       \u001B[49m\u001B[43msettings\u001B[49m\u001B[38;5;241;43m.\u001B[39;49m\u001B[43mdb_charset\u001B[49m\u001B[43m)\u001B[49m\n",
      "Cell \u001B[0;32mIn [24], line 108\u001B[0m, in \u001B[0;36mDatabaseConnection.__init__\u001B[0;34m(self, host, port, user, password, database, charset)\u001B[0m\n\u001B[1;32m     98\u001B[0m \u001B[38;5;28mprint\u001B[39m(\u001B[38;5;124m\"\u001B[39m\u001B[38;5;124mError:\u001B[39m\u001B[38;5;124m\"\u001B[39m, s)                 \u001B[38;5;66;03m# errno, sqlstate, msg values\u001B[39;00m\n\u001B[1;32m     99\u001B[0m sys\u001B[38;5;241m.\u001B[39mstderr\u001B[38;5;241m.\u001B[39mwrite(\u001B[38;5;124m\"\u001B[39m\u001B[38;5;124mcould not connect to database \u001B[39m\u001B[38;5;124m'\u001B[39m\u001B[38;5;124m\"\u001B[39m \u001B[38;5;241m+\u001B[39m\n\u001B[1;32m    100\u001B[0m                  \u001B[38;5;28mstr\u001B[39m(database) \u001B[38;5;241m+\u001B[39m\n\u001B[1;32m    101\u001B[0m                  \u001B[38;5;124m\"\u001B[39m\u001B[38;5;124m'\u001B[39m\u001B[38;5;124m at \u001B[39m\u001B[38;5;124m\"\u001B[39m \u001B[38;5;241m+\u001B[39m\n\u001B[0;32m   (...)\u001B[0m\n\u001B[1;32m    106\u001B[0m                  \u001B[38;5;28mstr\u001B[39m(port) \u001B[38;5;241m+\u001B[39m\n\u001B[1;32m    107\u001B[0m                  \u001B[38;5;124m\"\u001B[39m\u001B[38;5;130;01m\\n\u001B[39;00m\u001B[38;5;124mCheck the configuration in settings.py!\u001B[39m\u001B[38;5;130;01m\\n\u001B[39;00m\u001B[38;5;124m\"\u001B[39m)\n\u001B[0;32m--> 108\u001B[0m \u001B[38;5;28;01mraise\u001B[39;00m \u001B[38;5;167;01mException\u001B[39;00m(\u001B[38;5;124m'\u001B[39m\u001B[38;5;124mcould not connect to database\u001B[39m\u001B[38;5;124m'\u001B[39m)\n",
      "\u001B[0;31mException\u001B[0m: could not connect to database"
     ]
    }
   ],
   "source": [
    "test_connection()"
   ]
  },
  {
   "cell_type": "code",
   "execution_count": 4,
   "metadata": {},
   "outputs": [
    {
     "ename": "NameError",
     "evalue": "name 'DatabaseConnection' is not defined",
     "output_type": "error",
     "traceback": [
      "\u001B[0;31m---------------------------------------------------------------------------\u001B[0m",
      "\u001B[0;31mNameError\u001B[0m                                 Traceback (most recent call last)",
      "Cell \u001B[0;32mIn [4], line 1\u001B[0m\n\u001B[0;32m----> 1\u001B[0m \u001B[43mDatabaseConnection\u001B[49m\u001B[38;5;241m.\u001B[39mglobal_single_query(\u001B[38;5;124m\"\u001B[39m\u001B[38;5;124mshow tables\u001B[39m\u001B[38;5;124m\"\u001B[39m)\n",
      "\u001B[0;31mNameError\u001B[0m: name 'DatabaseConnection' is not defined"
     ]
    }
   ],
   "source": [
    "DatabaseConnection.global_single_query(\"show tables\")"
   ]
  },
  {
   "cell_type": "code",
   "execution_count": null,
   "metadata": {},
   "outputs": [],
   "source": []
  }
 ],
 "metadata": {
  "kernelspec": {
   "display_name": "Python 3",
   "language": "python",
   "name": "python3"
  },
  "language_info": {
   "codemirror_mode": {
    "name": "ipython",
    "version": 3
   },
   "file_extension": ".py",
   "mimetype": "text/x-python",
   "name": "python",
   "nbconvert_exporter": "python",
   "pygments_lexer": "ipython3",
   "version": "3.7.3"
  }
 },
 "nbformat": 4,
 "nbformat_minor": 4
}
